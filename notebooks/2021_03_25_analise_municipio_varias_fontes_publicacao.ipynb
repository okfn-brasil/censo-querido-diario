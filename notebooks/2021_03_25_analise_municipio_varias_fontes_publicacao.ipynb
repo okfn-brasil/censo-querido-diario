{
  "nbformat": 4,
  "nbformat_minor": 0,
  "metadata": {
    "orig_nbformat": 2,
    "kernelspec": {
      "name": "python3",
      "display_name": "Python 3"
    },
    "colab": {
      "name": "2021-03-25-analise-municipio-varias-fontes-publicacao.ipynb",
      "provenance": [],
      "collapsed_sections": [],
      "toc_visible": true
    }
  },
  "cells": [
    {
      "cell_type": "markdown",
      "metadata": {
        "id": "9Tn4QRgoelyh"
      },
      "source": [
        "[ISSUE #56](https://github.com/okfn-brasil/censo-querido-diario/issues/56)\n",
        "\n",
        "Esta análise integra a seção destinada aos aspectos institucionais.\n",
        "Aqui deverá constar um levantamento de quantos municípios possuem mais de uma fonte de publicação de diários oficiais e quantos possuem apenas uma fonte.\n",
        "\n",
        "Conjunto de dados com cidades com mais de 100mil habitantes"
      ]
    },
    {
      "cell_type": "markdown",
      "metadata": {
        "id": "PP02joKtelyv"
      },
      "source": [
        "IDEIAS PARA ANÁLISE:\n",
        "\n",
        "1. Quantos municípios não possuem nenhuma fonte de publicação eletrônica?\n",
        "\n",
        "2. Em qual região predomina a falta de publicação eletrônica?\n",
        "\n",
        "3. Quais dos municípios possuem apenas 1 fonte de publicação oficial?\n",
        "\n",
        "4. Quais os municípios possuem mais de 1 fonte de publicação?\n",
        "\n",
        "5. Esse municípios com várias fontes de publicação, predominam em alguma região do país?\n",
        "\n",
        "6. Há alguma correlação entre quantidade de fontes por município e antiguidade?\n",
        "\n",
        "7. As capitais costumam ter mais de uma fonte de publicação? Quantas?"
      ]
    },
    {
      "cell_type": "code",
      "metadata": {
        "id": "xUZHPYAbelyy"
      },
      "source": [
        "import pandas as pd\n",
        "import matplotlib.pyplot as plt"
      ],
      "execution_count": 1,
      "outputs": []
    },
    {
      "cell_type": "code",
      "metadata": {
        "id": "fJi8hQvyf__e"
      },
      "source": [
        "municipios = pd.read_csv(\"/content/base_mapeamento.csv\")"
      ],
      "execution_count": 2,
      "outputs": []
    },
    {
      "cell_type": "code",
      "metadata": {
        "colab": {
          "base_uri": "https://localhost:8080/",
          "height": 382
        },
        "id": "DnRlg0j1ely3",
        "outputId": "e63affa6-c904-4964-f83e-c03ab2cb2e93"
      },
      "source": [
        "municipios.head()"
      ],
      "execution_count": 3,
      "outputs": [
        {
          "output_type": "execute_result",
          "data": {
            "text/html": [
              "<div>\n",
              "<style scoped>\n",
              "    .dataframe tbody tr th:only-of-type {\n",
              "        vertical-align: middle;\n",
              "    }\n",
              "\n",
              "    .dataframe tbody tr th {\n",
              "        vertical-align: top;\n",
              "    }\n",
              "\n",
              "    .dataframe thead th {\n",
              "        text-align: right;\n",
              "    }\n",
              "</style>\n",
              "<table border=\"1\" class=\"dataframe\">\n",
              "  <thead>\n",
              "    <tr style=\"text-align: right;\">\n",
              "      <th></th>\n",
              "      <th>municipio</th>\n",
              "      <th>IBGE</th>\n",
              "      <th>IBGE7</th>\n",
              "      <th>UF</th>\n",
              "      <th>regiao</th>\n",
              "      <th>populacao_2020</th>\n",
              "      <th>eh_capital</th>\n",
              "      <th>fonte_1</th>\n",
              "      <th>fonte_2</th>\n",
              "      <th>fonte_3</th>\n",
              "      <th>fonte_4</th>\n",
              "      <th>is_online</th>\n",
              "      <th>data_inicial</th>\n",
              "      <th>tipo_arquivo</th>\n",
              "      <th>validacao</th>\n",
              "      <th>navegacao</th>\n",
              "      <th>observacoes</th>\n",
              "    </tr>\n",
              "  </thead>\n",
              "  <tbody>\n",
              "    <tr>\n",
              "      <th>0</th>\n",
              "      <td>Abaetetuba (PA)</td>\n",
              "      <td>150010</td>\n",
              "      <td>1500107</td>\n",
              "      <td>PA</td>\n",
              "      <td>Região Norte</td>\n",
              "      <td>159080</td>\n",
              "      <td>False</td>\n",
              "      <td>http://www.diariomunicipal.com.br/famep/pesqui...</td>\n",
              "      <td>None</td>\n",
              "      <td>None</td>\n",
              "      <td>None</td>\n",
              "      <td>1</td>\n",
              "      <td>2016-06-30</td>\n",
              "      <td>HTML</td>\n",
              "      <td>True</td>\n",
              "      <td>None</td>\n",
              "      <td>NaN</td>\n",
              "    </tr>\n",
              "    <tr>\n",
              "      <th>1</th>\n",
              "      <td>Abreu e Lima (PE)</td>\n",
              "      <td>260005</td>\n",
              "      <td>2600054</td>\n",
              "      <td>PE</td>\n",
              "      <td>Região Nordeste</td>\n",
              "      <td>100346</td>\n",
              "      <td>False</td>\n",
              "      <td>http://www.diariomunicipal.com.br/amupe/</td>\n",
              "      <td>None</td>\n",
              "      <td>None</td>\n",
              "      <td>None</td>\n",
              "      <td>1</td>\n",
              "      <td>None</td>\n",
              "      <td>PDF texto</td>\n",
              "      <td>True</td>\n",
              "      <td>None</td>\n",
              "      <td>O Diário Oficial do município de Abreu e Lima ...</td>\n",
              "    </tr>\n",
              "    <tr>\n",
              "      <th>2</th>\n",
              "      <td>Alagoinhas (BA)</td>\n",
              "      <td>290070</td>\n",
              "      <td>2900702</td>\n",
              "      <td>BA</td>\n",
              "      <td>Região Nordeste</td>\n",
              "      <td>152327</td>\n",
              "      <td>False</td>\n",
              "      <td>https://doem.org.br/ba/alagoinhas</td>\n",
              "      <td>None</td>\n",
              "      <td>None</td>\n",
              "      <td>None</td>\n",
              "      <td>1</td>\n",
              "      <td>2015-01-28</td>\n",
              "      <td>PDF texto</td>\n",
              "      <td>True</td>\n",
              "      <td>None</td>\n",
              "      <td>None</td>\n",
              "    </tr>\n",
              "    <tr>\n",
              "      <th>3</th>\n",
              "      <td>Almirante Tamandaré (PR)</td>\n",
              "      <td>410040</td>\n",
              "      <td>4100400</td>\n",
              "      <td>PR</td>\n",
              "      <td>Região Sul</td>\n",
              "      <td>120041</td>\n",
              "      <td>False</td>\n",
              "      <td>http://www.diariomunicipal.com.br/amp/pesquisa...</td>\n",
              "      <td>None</td>\n",
              "      <td>None</td>\n",
              "      <td>None</td>\n",
              "      <td>1</td>\n",
              "      <td>2014-01-08</td>\n",
              "      <td>HTML</td>\n",
              "      <td>True</td>\n",
              "      <td>None</td>\n",
              "      <td>NaN</td>\n",
              "    </tr>\n",
              "    <tr>\n",
              "      <th>4</th>\n",
              "      <td>Altamira (PA)</td>\n",
              "      <td>150060</td>\n",
              "      <td>1500602</td>\n",
              "      <td>PA</td>\n",
              "      <td>Região Norte</td>\n",
              "      <td>115969</td>\n",
              "      <td>False</td>\n",
              "      <td>http://altamira.pa.gov.br/site/download-catego...</td>\n",
              "      <td>None</td>\n",
              "      <td>None</td>\n",
              "      <td>None</td>\n",
              "      <td>1</td>\n",
              "      <td>2013-05-11</td>\n",
              "      <td>PDF imagem</td>\n",
              "      <td>True</td>\n",
              "      <td>None</td>\n",
              "      <td>NaN</td>\n",
              "    </tr>\n",
              "  </tbody>\n",
              "</table>\n",
              "</div>"
            ],
            "text/plain": [
              "                  municipio  ...                                        observacoes\n",
              "0           Abaetetuba (PA)  ...                                                NaN\n",
              "1         Abreu e Lima (PE)  ...  O Diário Oficial do município de Abreu e Lima ...\n",
              "2           Alagoinhas (BA)  ...                                               None\n",
              "3  Almirante Tamandaré (PR)  ...                                                NaN\n",
              "4             Altamira (PA)  ...                                                NaN\n",
              "\n",
              "[5 rows x 17 columns]"
            ]
          },
          "metadata": {
            "tags": []
          },
          "execution_count": 3
        }
      ]
    },
    {
      "cell_type": "markdown",
      "metadata": {
        "id": "KxUvBfubPM7I"
      },
      "source": [
        "## Pré-processamento"
      ]
    },
    {
      "cell_type": "code",
      "metadata": {
        "colab": {
          "base_uri": "https://localhost:8080/"
        },
        "id": "mtlC5upvEjTA",
        "outputId": "42dec0b7-efea-4eaa-ba5b-34626336b26b"
      },
      "source": [
        "municipios.info()"
      ],
      "execution_count": 4,
      "outputs": [
        {
          "output_type": "stream",
          "text": [
            "<class 'pandas.core.frame.DataFrame'>\n",
            "RangeIndex: 326 entries, 0 to 325\n",
            "Data columns (total 17 columns):\n",
            " #   Column          Non-Null Count  Dtype \n",
            "---  ------          --------------  ----- \n",
            " 0   municipio       326 non-null    object\n",
            " 1   IBGE            326 non-null    int64 \n",
            " 2   IBGE7           326 non-null    int64 \n",
            " 3   UF              326 non-null    object\n",
            " 4   regiao          326 non-null    object\n",
            " 5   populacao_2020  326 non-null    int64 \n",
            " 6   eh_capital      326 non-null    bool  \n",
            " 7   fonte_1         326 non-null    object\n",
            " 8   fonte_2         326 non-null    object\n",
            " 9   fonte_3         326 non-null    object\n",
            " 10  fonte_4         326 non-null    object\n",
            " 11  is_online       326 non-null    int64 \n",
            " 12  data_inicial    326 non-null    object\n",
            " 13  tipo_arquivo    326 non-null    object\n",
            " 14  validacao       326 non-null    bool  \n",
            " 15  navegacao       326 non-null    object\n",
            " 16  observacoes     133 non-null    object\n",
            "dtypes: bool(2), int64(4), object(11)\n",
            "memory usage: 39.0+ KB\n"
          ],
          "name": "stdout"
        }
      ]
    },
    {
      "cell_type": "markdown",
      "metadata": {
        "id": "8YJ8YTLeaFVS"
      },
      "source": [
        "Algumas colunas, como as referentes a fontes e data, tem datos do tipo strings, e possuem strings `\"None\"`, como pode ser visto. O primeiro processamento que podemos fazer é substituir essas strings pelo valor `None` de fato.\n"
      ]
    },
    {
      "cell_type": "code",
      "metadata": {
        "id": "LseIFbc3QiSq"
      },
      "source": [
        "municipios[['fonte_1', 'fonte_2', 'fonte_3', 'fonte_4', 'data_inicial']] = municipios[\n",
        "    ['fonte_1', 'fonte_2', 'fonte_3', 'fonte_4', 'data_inicial']\n",
        "].replace({'None': None})"
      ],
      "execution_count": 5,
      "outputs": []
    },
    {
      "cell_type": "markdown",
      "metadata": {
        "id": "yEtZAagEagmj"
      },
      "source": [
        "E como segundo processamento, podemos concatenar todos os valores das colunas de fonte em uma única coluna. Assim, visamos facilitar o trabalho da análise já que lidaremos apenas com uma coluna única.\n",
        "\n",
        "Usaremos o divisor `\" | \"` para separar as urls, já que é uma combinação de caracteres difícil de encontrar em urls e fácil de visualizar \"no olho\"."
      ]
    },
    {
      "cell_type": "code",
      "metadata": {
        "id": "9XeLoeydfFXf",
        "colab": {
          "base_uri": "https://localhost:8080/"
        },
        "outputId": "650bb276-0fc5-4313-e0a9-25d5105decb7"
      },
      "source": [
        "def concatenate_valid_fontes(row):\n",
        "    valid_fontes = []\n",
        "\n",
        "    for column, value in row.items():\n",
        "        if value is not None:\n",
        "            valid_fontes.append(value)\n",
        "    \n",
        "    return ' | '.join(valid_fontes)\n",
        "\n",
        "municipios['fontes'] = municipios[['fonte_1', 'fonte_2', 'fonte_3', 'fonte_4']].apply(concatenate_valid_fontes, axis=1)\n",
        "municipios['fontes'].head(20).to_list()"
      ],
      "execution_count": 6,
      "outputs": [
        {
          "output_type": "execute_result",
          "data": {
            "text/plain": [
              "['http://www.diariomunicipal.com.br/famep/pesquisar?busca_avancada%5B__paper%5D=1&busca_avancada%5BentidadeUsuaria%5D=25873&busca_avancada%5Bnome_orgao%5D=&busca_avancada%5Btitulo%5D=&busca_avancada%5Bt',\n",
              " 'http://www.diariomunicipal.com.br/amupe/',\n",
              " 'https://doem.org.br/ba/alagoinhas',\n",
              " 'http://www.diariomunicipal.com.br/amp/pesquisar?busca_avancada%5BentidadeUsuaria%5D=10741',\n",
              " 'http://altamira.pa.gov.br/site/download-category/diario-oficial/',\n",
              " 'http://www.diariomunicipal.com.br/famurs/pesquisar',\n",
              " 'https://diariooficial.americana.sp.gov.br/diario-oficial-index.php',\n",
              " 'http://www.ananindeua.pa.gov.br/diario/',\n",
              " 'http://angra.rj.gov.br/boletim-oficial.asp?indexsigla=imp',\n",
              " 'http://www.diario.anapolis.go.gov.br:8124/dowebans/page/diarioOficial.jsf',\n",
              " 'https://doe.aparecida.go.gov.br',\n",
              " 'http://sys.apucarana.pr.gov.br/apucarana-pr/FWLocal/diario_oficial/',\n",
              " 'http://sga.aracaju.se.gov.br:5011/legislacao/faces/diario_form_pesq.jsp',\n",
              " 'https://diariomunicipal.es.gov.br/?r=site/index&q=+entidade%3A%22Prefeitura+de+Aracruz%22',\n",
              " 'https://www.araguari.mg.gov.br/correio',\n",
              " 'https://diariooficial.araguaina.to.gov.br/',\n",
              " 'http://www.diariomunicipal.com.br/ama/pesquisar',\n",
              " 'https://www.arapongas.pr.gov.br/diario',\n",
              " 'http://www.araraquara.sp.gov.br/governo/atos-oficiais | http://www.araraquara.sp.gov.br/governo/atos-oficiais/atos-em-pdf/',\n",
              " 'https://publicacoesmunicipais.com.br/eatos/araras']"
            ]
          },
          "metadata": {
            "tags": []
          },
          "execution_count": 6
        }
      ]
    },
    {
      "cell_type": "markdown",
      "metadata": {
        "id": "LCAHASuTsrA7"
      },
      "source": [
        "Também podemos adicionar uma nova coluna com a quantidade de fontes em cada cidade."
      ]
    },
    {
      "cell_type": "code",
      "metadata": {
        "id": "kkCJvDSzt5qd"
      },
      "source": [
        "municipios['fontes_qtd'] = municipios['fontes'].str.count(' \\| ') + 1"
      ],
      "execution_count": 7,
      "outputs": []
    },
    {
      "cell_type": "markdown",
      "metadata": {
        "id": "hY1cT0K5tu1E"
      },
      "source": [
        "A \" | \" é utilizada para separar os sites quando o município possui mais de uma fonte de informação, ou seja, a barra será utilizada sempre após o primeiro site, se houver mais de um. Com isso, conseguimos contar quantos sites extras o município possui para publicação. Então, somamos 1 ao número total de barras, para simbolizar a primeira fonte de informação que não seria levada em conta.\n"
      ]
    },
    {
      "cell_type": "code",
      "metadata": {
        "colab": {
          "base_uri": "https://localhost:8080/"
        },
        "id": "1jcZ7l0hIArj",
        "outputId": "2d31ff71-48cd-4a8d-ad7c-f8bca8e53d92"
      },
      "source": [
        "print([1, municipios.loc[12][['municipio', 'fontes']].to_list()])\n",
        "print([2, municipios.loc[50][['municipio', 'fontes', ]].to_list()])\n",
        "print([3, municipios.loc[91][['municipio', 'fontes', ]].to_list()])"
      ],
      "execution_count": 8,
      "outputs": [
        {
          "output_type": "stream",
          "text": [
            "[1, ['Aracaju (SE)', 'http://sga.aracaju.se.gov.br:5011/legislacao/faces/diario_form_pesq.jsp']]\n",
            "[2, ['Brasília (DF)', 'http://www.buriti.df.gov.br/ftp/ | http://www.dodf.df.gov.br/']]\n",
            "[3, ['Cuiabá (MT)', 'http://www.diariomunicipal.com.br/amm-mt/pesquisar | https://diariomunicipal.org/mt/amm/publicacoes/?e=432 | https://diariooficial.cuiaba.mt.gov.br/']]\n"
          ],
          "name": "stdout"
        }
      ]
    },
    {
      "cell_type": "markdown",
      "metadata": {
        "id": "IcUBIp5PvgkL"
      },
      "source": [
        "Pelo pré-processamento que fizemos até agora, as colunas 'fonte_1', 'fonte_2', 'fonte_3', 'fonte_4' podem ser descartadas, pois seus dados estão na coluna 'fontes'."
      ]
    },
    {
      "cell_type": "code",
      "metadata": {
        "colab": {
          "base_uri": "https://localhost:8080/",
          "height": 382
        },
        "id": "BTlHQVl9szFE",
        "outputId": "2ddee8b6-3288-407a-f724-341f38fc18b1"
      },
      "source": [
        "municipios = municipios.drop(columns=['fonte_1', 'fonte_2', 'fonte_3', 'fonte_4'])\n",
        "municipios.head()"
      ],
      "execution_count": 9,
      "outputs": [
        {
          "output_type": "execute_result",
          "data": {
            "text/html": [
              "<div>\n",
              "<style scoped>\n",
              "    .dataframe tbody tr th:only-of-type {\n",
              "        vertical-align: middle;\n",
              "    }\n",
              "\n",
              "    .dataframe tbody tr th {\n",
              "        vertical-align: top;\n",
              "    }\n",
              "\n",
              "    .dataframe thead th {\n",
              "        text-align: right;\n",
              "    }\n",
              "</style>\n",
              "<table border=\"1\" class=\"dataframe\">\n",
              "  <thead>\n",
              "    <tr style=\"text-align: right;\">\n",
              "      <th></th>\n",
              "      <th>municipio</th>\n",
              "      <th>IBGE</th>\n",
              "      <th>IBGE7</th>\n",
              "      <th>UF</th>\n",
              "      <th>regiao</th>\n",
              "      <th>populacao_2020</th>\n",
              "      <th>eh_capital</th>\n",
              "      <th>is_online</th>\n",
              "      <th>data_inicial</th>\n",
              "      <th>tipo_arquivo</th>\n",
              "      <th>validacao</th>\n",
              "      <th>navegacao</th>\n",
              "      <th>observacoes</th>\n",
              "      <th>fontes</th>\n",
              "      <th>fontes_qtd</th>\n",
              "    </tr>\n",
              "  </thead>\n",
              "  <tbody>\n",
              "    <tr>\n",
              "      <th>0</th>\n",
              "      <td>Abaetetuba (PA)</td>\n",
              "      <td>150010</td>\n",
              "      <td>1500107</td>\n",
              "      <td>PA</td>\n",
              "      <td>Região Norte</td>\n",
              "      <td>159080</td>\n",
              "      <td>False</td>\n",
              "      <td>1</td>\n",
              "      <td>2016-06-30</td>\n",
              "      <td>HTML</td>\n",
              "      <td>True</td>\n",
              "      <td>None</td>\n",
              "      <td>NaN</td>\n",
              "      <td>http://www.diariomunicipal.com.br/famep/pesqui...</td>\n",
              "      <td>1</td>\n",
              "    </tr>\n",
              "    <tr>\n",
              "      <th>1</th>\n",
              "      <td>Abreu e Lima (PE)</td>\n",
              "      <td>260005</td>\n",
              "      <td>2600054</td>\n",
              "      <td>PE</td>\n",
              "      <td>Região Nordeste</td>\n",
              "      <td>100346</td>\n",
              "      <td>False</td>\n",
              "      <td>1</td>\n",
              "      <td>None</td>\n",
              "      <td>PDF texto</td>\n",
              "      <td>True</td>\n",
              "      <td>None</td>\n",
              "      <td>O Diário Oficial do município de Abreu e Lima ...</td>\n",
              "      <td>http://www.diariomunicipal.com.br/amupe/</td>\n",
              "      <td>1</td>\n",
              "    </tr>\n",
              "    <tr>\n",
              "      <th>2</th>\n",
              "      <td>Alagoinhas (BA)</td>\n",
              "      <td>290070</td>\n",
              "      <td>2900702</td>\n",
              "      <td>BA</td>\n",
              "      <td>Região Nordeste</td>\n",
              "      <td>152327</td>\n",
              "      <td>False</td>\n",
              "      <td>1</td>\n",
              "      <td>2015-01-28</td>\n",
              "      <td>PDF texto</td>\n",
              "      <td>True</td>\n",
              "      <td>None</td>\n",
              "      <td>None</td>\n",
              "      <td>https://doem.org.br/ba/alagoinhas</td>\n",
              "      <td>1</td>\n",
              "    </tr>\n",
              "    <tr>\n",
              "      <th>3</th>\n",
              "      <td>Almirante Tamandaré (PR)</td>\n",
              "      <td>410040</td>\n",
              "      <td>4100400</td>\n",
              "      <td>PR</td>\n",
              "      <td>Região Sul</td>\n",
              "      <td>120041</td>\n",
              "      <td>False</td>\n",
              "      <td>1</td>\n",
              "      <td>2014-01-08</td>\n",
              "      <td>HTML</td>\n",
              "      <td>True</td>\n",
              "      <td>None</td>\n",
              "      <td>NaN</td>\n",
              "      <td>http://www.diariomunicipal.com.br/amp/pesquisa...</td>\n",
              "      <td>1</td>\n",
              "    </tr>\n",
              "    <tr>\n",
              "      <th>4</th>\n",
              "      <td>Altamira (PA)</td>\n",
              "      <td>150060</td>\n",
              "      <td>1500602</td>\n",
              "      <td>PA</td>\n",
              "      <td>Região Norte</td>\n",
              "      <td>115969</td>\n",
              "      <td>False</td>\n",
              "      <td>1</td>\n",
              "      <td>2013-05-11</td>\n",
              "      <td>PDF imagem</td>\n",
              "      <td>True</td>\n",
              "      <td>None</td>\n",
              "      <td>NaN</td>\n",
              "      <td>http://altamira.pa.gov.br/site/download-catego...</td>\n",
              "      <td>1</td>\n",
              "    </tr>\n",
              "  </tbody>\n",
              "</table>\n",
              "</div>"
            ],
            "text/plain": [
              "                  municipio  ...  fontes_qtd\n",
              "0           Abaetetuba (PA)  ...           1\n",
              "1         Abreu e Lima (PE)  ...           1\n",
              "2           Alagoinhas (BA)  ...           1\n",
              "3  Almirante Tamandaré (PR)  ...           1\n",
              "4             Altamira (PA)  ...           1\n",
              "\n",
              "[5 rows x 15 columns]"
            ]
          },
          "metadata": {
            "tags": []
          },
          "execution_count": 9
        }
      ]
    },
    {
      "cell_type": "markdown",
      "metadata": {
        "id": "ekYbOJkjely7"
      },
      "source": [
        "# ANÁLISE"
      ]
    },
    {
      "cell_type": "markdown",
      "metadata": {
        "id": "edGJxvDxQuzc"
      },
      "source": [
        "## 1. Quantos municípios não possuem nenhuma fonte de publicação eletrônica?"
      ]
    },
    {
      "cell_type": "code",
      "metadata": {
        "colab": {
          "base_uri": "https://localhost:8080/"
        },
        "id": "jCXSwMtOely8",
        "outputId": "752cba1b-3a29-4c4b-c461-6081a7f75491"
      },
      "source": [
        "municipios['is_online'].unique()"
      ],
      "execution_count": 10,
      "outputs": [
        {
          "output_type": "execute_result",
          "data": {
            "text/plain": [
              "array([1, 3])"
            ]
          },
          "metadata": {
            "tags": []
          },
          "execution_count": 10
        }
      ]
    },
    {
      "cell_type": "markdown",
      "metadata": {
        "id": "UJ8WHwnoPvhm"
      },
      "source": [
        "Vemos que existem apenas casos onde o site do diário está disponível online e casos sem confirmação.\n",
        "\n",
        "Vamos explorar um pouco esses dois cenários."
      ]
    },
    {
      "cell_type": "code",
      "metadata": {
        "colab": {
          "base_uri": "https://localhost:8080/",
          "height": 201
        },
        "id": "ef6a_zIRelzA",
        "outputId": "e756532b-4160-4035-868a-4690a2e3d64b"
      },
      "source": [
        "municipios_sem_confirmacao = municipios[municipios['is_online'] == 3]\n",
        "municipios_sem_confirmacao"
      ],
      "execution_count": 11,
      "outputs": [
        {
          "output_type": "execute_result",
          "data": {
            "text/html": [
              "<div>\n",
              "<style scoped>\n",
              "    .dataframe tbody tr th:only-of-type {\n",
              "        vertical-align: middle;\n",
              "    }\n",
              "\n",
              "    .dataframe tbody tr th {\n",
              "        vertical-align: top;\n",
              "    }\n",
              "\n",
              "    .dataframe thead th {\n",
              "        text-align: right;\n",
              "    }\n",
              "</style>\n",
              "<table border=\"1\" class=\"dataframe\">\n",
              "  <thead>\n",
              "    <tr style=\"text-align: right;\">\n",
              "      <th></th>\n",
              "      <th>municipio</th>\n",
              "      <th>IBGE</th>\n",
              "      <th>IBGE7</th>\n",
              "      <th>UF</th>\n",
              "      <th>regiao</th>\n",
              "      <th>populacao_2020</th>\n",
              "      <th>eh_capital</th>\n",
              "      <th>is_online</th>\n",
              "      <th>data_inicial</th>\n",
              "      <th>tipo_arquivo</th>\n",
              "      <th>validacao</th>\n",
              "      <th>navegacao</th>\n",
              "      <th>observacoes</th>\n",
              "      <th>fontes</th>\n",
              "      <th>fontes_qtd</th>\n",
              "    </tr>\n",
              "  </thead>\n",
              "  <tbody>\n",
              "    <tr>\n",
              "      <th>242</th>\n",
              "      <td>Rio Grande (RS)</td>\n",
              "      <td>431560</td>\n",
              "      <td>4315602</td>\n",
              "      <td>RS</td>\n",
              "      <td>Região Sul</td>\n",
              "      <td>211965</td>\n",
              "      <td>False</td>\n",
              "      <td>3</td>\n",
              "      <td>None</td>\n",
              "      <td>None</td>\n",
              "      <td>True</td>\n",
              "      <td>None</td>\n",
              "      <td>Não encontrado veículo de publicação oficial n...</td>\n",
              "      <td>https://www.in.gov.br/consulta/-/buscar/dou?q=...</td>\n",
              "      <td>1</td>\n",
              "    </tr>\n",
              "    <tr>\n",
              "      <th>315</th>\n",
              "      <td>Viamão (RS)</td>\n",
              "      <td>432300</td>\n",
              "      <td>4323002</td>\n",
              "      <td>RS</td>\n",
              "      <td>Região Sul</td>\n",
              "      <td>256302</td>\n",
              "      <td>False</td>\n",
              "      <td>3</td>\n",
              "      <td>None</td>\n",
              "      <td>None</td>\n",
              "      <td>True</td>\n",
              "      <td>None</td>\n",
              "      <td>Endereço existe (https://www.viamao.rs.gov.br/...</td>\n",
              "      <td>https://www.in.gov.br/consulta/-/buscar/dou?q=...</td>\n",
              "      <td>1</td>\n",
              "    </tr>\n",
              "  </tbody>\n",
              "</table>\n",
              "</div>"
            ],
            "text/plain": [
              "           municipio  ...  fontes_qtd\n",
              "242  Rio Grande (RS)  ...           1\n",
              "315      Viamão (RS)  ...           1\n",
              "\n",
              "[2 rows x 15 columns]"
            ]
          },
          "metadata": {
            "tags": []
          },
          "execution_count": 11
        }
      ]
    },
    {
      "cell_type": "code",
      "metadata": {
        "colab": {
          "base_uri": "https://localhost:8080/"
        },
        "id": "XETFRShcelzA",
        "outputId": "785bed0c-aeab-49d0-8c18-0f1c3e3f3100"
      },
      "source": [
        "municipios_sem_confirmacao['fontes'].unique()"
      ],
      "execution_count": 12,
      "outputs": [
        {
          "output_type": "execute_result",
          "data": {
            "text/plain": [
              "array(['https://www.in.gov.br/consulta/-/buscar/dou?q=%22Munic%C3%ADpio+de+Rio+Grande%22&orgPrin=Prefeituras&orgSub=Estado+do+Rio+Grande+do+Sul',\n",
              "       'https://www.in.gov.br/consulta/-/buscar/dou?q=%22Munic%C3%ADpio+de+Viam%C3%A3o%22&orgPrin=Prefeituras&orgSub=Estado+do+Rio+Grande+do+Sul'],\n",
              "      dtype=object)"
            ]
          },
          "metadata": {
            "tags": []
          },
          "execution_count": 12
        }
      ]
    },
    {
      "cell_type": "markdown",
      "metadata": {
        "id": "YLsJ_V-CQH-E"
      },
      "source": [
        "Vimos que existem apenas dois municípios sem confirmação de diário oficial online.\n",
        "\n",
        "Agora, vamos visualizar a frequência de ocorrência de cada um dos cenários."
      ]
    },
    {
      "cell_type": "code",
      "metadata": {
        "id": "zn9gFV63lLEG",
        "colab": {
          "base_uri": "https://localhost:8080/"
        },
        "outputId": "5b107bc6-98d6-4240-92d6-9cb9387181c6"
      },
      "source": [
        "is_online = [1, 2, 3]\n",
        "frequencia = municipios['is_online'].value_counts().to_list()\n",
        "print(frequencia)"
      ],
      "execution_count": 13,
      "outputs": [
        {
          "output_type": "stream",
          "text": [
            "[324, 2]\n"
          ],
          "name": "stdout"
        }
      ]
    },
    {
      "cell_type": "markdown",
      "metadata": {
        "id": "DA9jDMSpQvP9"
      },
      "source": [
        "Como não é mostrado nenhum valor para o cenário 2, vamos inserir ele manualmente para complementar a visualização.\n",
        "\n"
      ]
    },
    {
      "cell_type": "code",
      "metadata": {
        "colab": {
          "base_uri": "https://localhost:8080/"
        },
        "id": "RwXHVEdgQuKH",
        "outputId": "e0fcf968-9968-4193-9072-2044e649d277"
      },
      "source": [
        "frequencia.insert(1, 0)\n",
        "print(frequencia)"
      ],
      "execution_count": 14,
      "outputs": [
        {
          "output_type": "stream",
          "text": [
            "[324, 0, 2]\n"
          ],
          "name": "stdout"
        }
      ]
    },
    {
      "cell_type": "code",
      "metadata": {
        "colab": {
          "base_uri": "https://localhost:8080/",
          "height": 281
        },
        "id": "XU3FmsqkKVKy",
        "outputId": "240620d9-6cca-426b-c9a7-f0ced720f964"
      },
      "source": [
        "plt.bar(is_online, frequencia, width=0.3)\n",
        "plt.title('Municípios com Diário Oficial eletrônico')\n",
        "plt.xticks(is_online, ('Sim', 'Não', 'Sem confirmação'))\n",
        "plt.ylabel('Quantitativo de municípios')\n",
        "\n",
        "plt.show()"
      ],
      "execution_count": 15,
      "outputs": [
        {
          "output_type": "display_data",
          "data": {
            "image/png": "[encoded data removed]",
            "text/plain": [
              "<Figure size 432x288 with 1 Axes>"
            ]
          },
          "metadata": {
            "tags": [],
            "needs_background": "light"
          }
        }
      ]
    },
    {
      "cell_type": "markdown",
      "metadata": {
        "id": "N3wolxVlU3VH"
      },
      "source": [
        "Vamos exportar os dados para .csv, o que possibilitará gerar visualização fora do notebook."
      ]
    },
    {
      "cell_type": "code",
      "metadata": {
        "id": "TIgnG6OHR83K"
      },
      "source": [
        "municipio_has_diario = pd.DataFrame(\n",
        "    data={\n",
        "        'is_online': is_online,\n",
        "        'is_online_label': ['Sim', 'Não', 'Sem confirmação'],\n",
        "        'total': frequencia\n",
        "    }\n",
        ")\n",
        "municipio_has_diario.to_csv(r'pergunta_1.csv', index=False)"
      ],
      "execution_count": 16,
      "outputs": []
    },
    {
      "cell_type": "markdown",
      "metadata": {
        "id": "HNiWW9oWiOVv"
      },
      "source": [
        "### Conclusão 1\n",
        "\n",
        "Entre todas as cidades com mais de 100mil habitantes, Rio Grande(RS) e Viamão(RS) não tiveram seus Diários Oficiais municipais localizados. No entanto, foram encontrados alguns atos oficiais publicados no Diário oficial da União entre os anos de 2018 e 2021."
      ]
    },
    {
      "cell_type": "markdown",
      "metadata": {
        "id": "UOwXntpyQQe5"
      },
      "source": [
        "-------------------\n",
        "\n",
        "## 2. Em qual região predomina a falta de publicação eletrônica?"
      ]
    },
    {
      "cell_type": "markdown",
      "metadata": {
        "id": "0MBZErDnRVN1"
      },
      "source": [
        "### Conclusão 2\n",
        "\n",
        "Como observado na análise anterior, não foi confirmada a publicação de diários oficiais em meio eletrônico em apenas 2 cidades, ambas do Rio Grande do Sul.\n",
        "\n",
        "---------------------\n"
      ]
    },
    {
      "cell_type": "markdown",
      "metadata": {
        "id": "5yEGrixkVjIQ"
      },
      "source": [
        "## 3. Quais os municípios possuem apenas 1 fonte de publicação oficial?\n",
        "\n",
        "Vamos fazer um subdataframe com todos os municípios com apenas 1 fonte de publicação."
      ]
    },
    {
      "cell_type": "code",
      "metadata": {
        "colab": {
          "base_uri": "https://localhost:8080/"
        },
        "id": "58AqqABk-9D8",
        "outputId": "fc26c541-6dfb-4db3-fe0f-ea0feea4c489"
      },
      "source": [
        "municipios_uma_fonte = municipios[municipios['fontes_qtd'] == 1]\n",
        "municipios_uma_fonte.shape"
      ],
      "execution_count": 17,
      "outputs": [
        {
          "output_type": "execute_result",
          "data": {
            "text/plain": [
              "(286, 15)"
            ]
          },
          "metadata": {
            "tags": []
          },
          "execution_count": 17
        }
      ]
    },
    {
      "cell_type": "markdown",
      "metadata": {
        "id": "6gPdTxcXT1Ut"
      },
      "source": [
        "Agora vamos descobrir o quanto isto representa, em percentual, do total de municípios."
      ]
    },
    {
      "cell_type": "code",
      "metadata": {
        "colab": {
          "base_uri": "https://localhost:8080/"
        },
        "id": "FrwPhapNhJb0",
        "outputId": "83b0c0ca-7133-4b27-e222-aa71b3634199"
      },
      "source": [
        "total_municipios_uma_fonte = municipios_uma_fonte.shape[0]\n",
        "total_municipios = municipios.shape[0]\n",
        "percentage_municipios_uma_fonte = round((total_municipios_uma_fonte / total_municipios * 100), 2)\n",
        "percentage_municipios_uma_fonte"
      ],
      "execution_count": 18,
      "outputs": [
        {
          "output_type": "execute_result",
          "data": {
            "text/plain": [
              "87.73"
            ]
          },
          "metadata": {
            "tags": []
          },
          "execution_count": 18
        }
      ]
    },
    {
      "cell_type": "markdown",
      "metadata": {
        "id": "MiXLKt8uUKkG"
      },
      "source": [
        "Podemos investigar mais utilizando outras colunas. Qual a quantidade de municípios com apenas uma fonte em cada região?"
      ]
    },
    {
      "cell_type": "code",
      "metadata": {
        "id": "c0u4oH1qi87R",
        "colab": {
          "base_uri": "https://localhost:8080/"
        },
        "outputId": "18a496e7-6475-4666-b088-85002bebe3ab"
      },
      "source": [
        "total_municipios_uma_fonte_regiao = municipios_uma_fonte['regiao'].value_counts()\n",
        "total_municipios_uma_fonte_regiao_absolute_values = total_municipios_uma_fonte_regiao.to_list()\n",
        "total_municipios_uma_fonte_regiao"
      ],
      "execution_count": 19,
      "outputs": [
        {
          "output_type": "execute_result",
          "data": {
            "text/plain": [
              "Região Sudeste         135\n",
              "Região Nordeste         59\n",
              "Região Sul              46\n",
              "Região Norte            26\n",
              "Região Centro-Oeste     20\n",
              "Name: regiao, dtype: int64"
            ]
          },
          "metadata": {
            "tags": []
          },
          "execution_count": 19
        }
      ]
    },
    {
      "cell_type": "markdown",
      "metadata": {
        "id": "myiOcOy1YHJV"
      },
      "source": [
        "E esses valores representam qual porcentagem do total de municípios?"
      ]
    },
    {
      "cell_type": "code",
      "metadata": {
        "id": "k99kTXNkohU9",
        "colab": {
          "base_uri": "https://localhost:8080/"
        },
        "outputId": "28ffd98b-5839-4313-81a4-99259b03544f"
      },
      "source": [
        "percentages_regioes_uma_fonte = []\n",
        "\n",
        "for total_in_regiao in total_municipios_uma_fonte_regiao_absolute_values:\n",
        "    percentage = round((total_in_regiao / total_municipios_uma_fonte *100), 1)\n",
        "    percentages_regioes_uma_fonte.append(percentage)\n",
        "\n",
        "percentages_regioes_uma_fonte"
      ],
      "execution_count": 20,
      "outputs": [
        {
          "output_type": "execute_result",
          "data": {
            "text/plain": [
              "[47.2, 20.6, 16.1, 9.1, 7.0]"
            ]
          },
          "metadata": {
            "tags": []
          },
          "execution_count": 20
        }
      ]
    },
    {
      "cell_type": "code",
      "metadata": {
        "id": "or8gjcXOteQ1",
        "colab": {
          "base_uri": "https://localhost:8080/"
        },
        "outputId": "2255b9f3-0323-4bb2-8061-a304f4814fe5"
      },
      "source": [
        "regiao_name = total_municipios_uma_fonte_regiao.index.to_list()\n",
        "regiao_name"
      ],
      "execution_count": 21,
      "outputs": [
        {
          "output_type": "execute_result",
          "data": {
            "text/plain": [
              "['Região Sudeste',\n",
              " 'Região Nordeste',\n",
              " 'Região Sul',\n",
              " 'Região Norte',\n",
              " 'Região Centro-Oeste']"
            ]
          },
          "metadata": {
            "tags": []
          },
          "execution_count": 21
        }
      ]
    },
    {
      "cell_type": "code",
      "metadata": {
        "id": "csvYwPoQjRWJ",
        "colab": {
          "base_uri": "https://localhost:8080/",
          "height": 206
        },
        "outputId": "580130aa-eb33-4c92-c1be-ddb1764c810e"
      },
      "source": [
        "municipios_uma_fonte_overview = pd.DataFrame(\n",
        "    data={\n",
        "        'municipios_uma_fonte': total_municipios_uma_fonte_regiao_absolute_values,\n",
        "        'porcent_do_total_uma_fonte': percentages_regioes_uma_fonte\n",
        "    }, \n",
        "    index=regiao_name\n",
        ")\n",
        "municipios_uma_fonte_overview"
      ],
      "execution_count": 22,
      "outputs": [
        {
          "output_type": "execute_result",
          "data": {
            "text/html": [
              "<div>\n",
              "<style scoped>\n",
              "    .dataframe tbody tr th:only-of-type {\n",
              "        vertical-align: middle;\n",
              "    }\n",
              "\n",
              "    .dataframe tbody tr th {\n",
              "        vertical-align: top;\n",
              "    }\n",
              "\n",
              "    .dataframe thead th {\n",
              "        text-align: right;\n",
              "    }\n",
              "</style>\n",
              "<table border=\"1\" class=\"dataframe\">\n",
              "  <thead>\n",
              "    <tr style=\"text-align: right;\">\n",
              "      <th></th>\n",
              "      <th>municipios_uma_fonte</th>\n",
              "      <th>porcent_do_total_uma_fonte</th>\n",
              "    </tr>\n",
              "  </thead>\n",
              "  <tbody>\n",
              "    <tr>\n",
              "      <th>Região Sudeste</th>\n",
              "      <td>135</td>\n",
              "      <td>47.2</td>\n",
              "    </tr>\n",
              "    <tr>\n",
              "      <th>Região Nordeste</th>\n",
              "      <td>59</td>\n",
              "      <td>20.6</td>\n",
              "    </tr>\n",
              "    <tr>\n",
              "      <th>Região Sul</th>\n",
              "      <td>46</td>\n",
              "      <td>16.1</td>\n",
              "    </tr>\n",
              "    <tr>\n",
              "      <th>Região Norte</th>\n",
              "      <td>26</td>\n",
              "      <td>9.1</td>\n",
              "    </tr>\n",
              "    <tr>\n",
              "      <th>Região Centro-Oeste</th>\n",
              "      <td>20</td>\n",
              "      <td>7.0</td>\n",
              "    </tr>\n",
              "  </tbody>\n",
              "</table>\n",
              "</div>"
            ],
            "text/plain": [
              "                     municipios_uma_fonte  porcent_do_total_uma_fonte\n",
              "Região Sudeste                        135                        47.2\n",
              "Região Nordeste                        59                        20.6\n",
              "Região Sul                             46                        16.1\n",
              "Região Norte                           26                         9.1\n",
              "Região Centro-Oeste                    20                         7.0"
            ]
          },
          "metadata": {
            "tags": []
          },
          "execution_count": 22
        }
      ]
    },
    {
      "cell_type": "markdown",
      "metadata": {
        "id": "JDvEmJW2X2Wy"
      },
      "source": [
        "Para cada região, isoladamente, qual a incidência de municípios com apenas uma fonte?"
      ]
    },
    {
      "cell_type": "code",
      "metadata": {
        "id": "P1yX0o2IqCvu",
        "colab": {
          "base_uri": "https://localhost:8080/",
          "height": 206
        },
        "outputId": "bb0088fc-5eb0-4e89-d199-ab1e1af22df8"
      },
      "source": [
        "municipios_uma_fonte_overview['total_municipios'] = municipios['regiao'].value_counts()\n",
        "municipios_uma_fonte_overview"
      ],
      "execution_count": 23,
      "outputs": [
        {
          "output_type": "execute_result",
          "data": {
            "text/html": [
              "<div>\n",
              "<style scoped>\n",
              "    .dataframe tbody tr th:only-of-type {\n",
              "        vertical-align: middle;\n",
              "    }\n",
              "\n",
              "    .dataframe tbody tr th {\n",
              "        vertical-align: top;\n",
              "    }\n",
              "\n",
              "    .dataframe thead th {\n",
              "        text-align: right;\n",
              "    }\n",
              "</style>\n",
              "<table border=\"1\" class=\"dataframe\">\n",
              "  <thead>\n",
              "    <tr style=\"text-align: right;\">\n",
              "      <th></th>\n",
              "      <th>municipios_uma_fonte</th>\n",
              "      <th>porcent_do_total_uma_fonte</th>\n",
              "      <th>total_municipios</th>\n",
              "    </tr>\n",
              "  </thead>\n",
              "  <tbody>\n",
              "    <tr>\n",
              "      <th>Região Sudeste</th>\n",
              "      <td>135</td>\n",
              "      <td>47.2</td>\n",
              "      <td>154</td>\n",
              "    </tr>\n",
              "    <tr>\n",
              "      <th>Região Nordeste</th>\n",
              "      <td>59</td>\n",
              "      <td>20.6</td>\n",
              "      <td>64</td>\n",
              "    </tr>\n",
              "    <tr>\n",
              "      <th>Região Sul</th>\n",
              "      <td>46</td>\n",
              "      <td>16.1</td>\n",
              "      <td>53</td>\n",
              "    </tr>\n",
              "    <tr>\n",
              "      <th>Região Norte</th>\n",
              "      <td>26</td>\n",
              "      <td>9.1</td>\n",
              "      <td>31</td>\n",
              "    </tr>\n",
              "    <tr>\n",
              "      <th>Região Centro-Oeste</th>\n",
              "      <td>20</td>\n",
              "      <td>7.0</td>\n",
              "      <td>24</td>\n",
              "    </tr>\n",
              "  </tbody>\n",
              "</table>\n",
              "</div>"
            ],
            "text/plain": [
              "                     municipios_uma_fonte  ...  total_municipios\n",
              "Região Sudeste                        135  ...               154\n",
              "Região Nordeste                        59  ...                64\n",
              "Região Sul                             46  ...                53\n",
              "Região Norte                           26  ...                31\n",
              "Região Centro-Oeste                    20  ...                24\n",
              "\n",
              "[5 rows x 3 columns]"
            ]
          },
          "metadata": {
            "tags": []
          },
          "execution_count": 23
        }
      ]
    },
    {
      "cell_type": "code",
      "metadata": {
        "id": "EtyJMqGmwDZU",
        "colab": {
          "base_uri": "https://localhost:8080/",
          "height": 206
        },
        "outputId": "c9f39d27-d7a5-4697-fe24-607ba12508be"
      },
      "source": [
        "municipios_uma_fonte_overview['porcent_por_regiao_uma_fonte'] = round(\n",
        "    (municipios_uma_fonte_overview['municipios_uma_fonte'] / municipios_uma_fonte_overview['total_municipios']) * 100,\n",
        "    1\n",
        ")\n",
        "municipios_uma_fonte_overview"
      ],
      "execution_count": 24,
      "outputs": [
        {
          "output_type": "execute_result",
          "data": {
            "text/html": [
              "<div>\n",
              "<style scoped>\n",
              "    .dataframe tbody tr th:only-of-type {\n",
              "        vertical-align: middle;\n",
              "    }\n",
              "\n",
              "    .dataframe tbody tr th {\n",
              "        vertical-align: top;\n",
              "    }\n",
              "\n",
              "    .dataframe thead th {\n",
              "        text-align: right;\n",
              "    }\n",
              "</style>\n",
              "<table border=\"1\" class=\"dataframe\">\n",
              "  <thead>\n",
              "    <tr style=\"text-align: right;\">\n",
              "      <th></th>\n",
              "      <th>municipios_uma_fonte</th>\n",
              "      <th>porcent_do_total_uma_fonte</th>\n",
              "      <th>total_municipios</th>\n",
              "      <th>porcent_por_regiao_uma_fonte</th>\n",
              "    </tr>\n",
              "  </thead>\n",
              "  <tbody>\n",
              "    <tr>\n",
              "      <th>Região Sudeste</th>\n",
              "      <td>135</td>\n",
              "      <td>47.2</td>\n",
              "      <td>154</td>\n",
              "      <td>87.7</td>\n",
              "    </tr>\n",
              "    <tr>\n",
              "      <th>Região Nordeste</th>\n",
              "      <td>59</td>\n",
              "      <td>20.6</td>\n",
              "      <td>64</td>\n",
              "      <td>92.2</td>\n",
              "    </tr>\n",
              "    <tr>\n",
              "      <th>Região Sul</th>\n",
              "      <td>46</td>\n",
              "      <td>16.1</td>\n",
              "      <td>53</td>\n",
              "      <td>86.8</td>\n",
              "    </tr>\n",
              "    <tr>\n",
              "      <th>Região Norte</th>\n",
              "      <td>26</td>\n",
              "      <td>9.1</td>\n",
              "      <td>31</td>\n",
              "      <td>83.9</td>\n",
              "    </tr>\n",
              "    <tr>\n",
              "      <th>Região Centro-Oeste</th>\n",
              "      <td>20</td>\n",
              "      <td>7.0</td>\n",
              "      <td>24</td>\n",
              "      <td>83.3</td>\n",
              "    </tr>\n",
              "  </tbody>\n",
              "</table>\n",
              "</div>"
            ],
            "text/plain": [
              "                     municipios_uma_fonte  ...  porcent_por_regiao_uma_fonte\n",
              "Região Sudeste                        135  ...                          87.7\n",
              "Região Nordeste                        59  ...                          92.2\n",
              "Região Sul                             46  ...                          86.8\n",
              "Região Norte                           26  ...                          83.9\n",
              "Região Centro-Oeste                    20  ...                          83.3\n",
              "\n",
              "[5 rows x 4 columns]"
            ]
          },
          "metadata": {
            "tags": []
          },
          "execution_count": 24
        }
      ]
    },
    {
      "cell_type": "markdown",
      "metadata": {
        "id": "1IJ84FoPZLWU"
      },
      "source": [
        "Para ficar mais fácil de ler, podemos rearranjar as colunas."
      ]
    },
    {
      "cell_type": "code",
      "metadata": {
        "colab": {
          "base_uri": "https://localhost:8080/",
          "height": 206
        },
        "id": "RRWLSsszlzC7",
        "outputId": "173b6b06-3aa5-46da-b454-514d978c15a1"
      },
      "source": [
        "municipios_uma_fonte_overview = municipios_uma_fonte_overview[\n",
        "    ['total_municipios', 'municipios_uma_fonte', 'porcent_por_regiao_uma_fonte', 'porcent_do_total_uma_fonte']\n",
        "]\n",
        "municipios_uma_fonte_overview"
      ],
      "execution_count": 25,
      "outputs": [
        {
          "output_type": "execute_result",
          "data": {
            "text/html": [
              "<div>\n",
              "<style scoped>\n",
              "    .dataframe tbody tr th:only-of-type {\n",
              "        vertical-align: middle;\n",
              "    }\n",
              "\n",
              "    .dataframe tbody tr th {\n",
              "        vertical-align: top;\n",
              "    }\n",
              "\n",
              "    .dataframe thead th {\n",
              "        text-align: right;\n",
              "    }\n",
              "</style>\n",
              "<table border=\"1\" class=\"dataframe\">\n",
              "  <thead>\n",
              "    <tr style=\"text-align: right;\">\n",
              "      <th></th>\n",
              "      <th>total_municipios</th>\n",
              "      <th>municipios_uma_fonte</th>\n",
              "      <th>porcent_por_regiao_uma_fonte</th>\n",
              "      <th>porcent_do_total_uma_fonte</th>\n",
              "    </tr>\n",
              "  </thead>\n",
              "  <tbody>\n",
              "    <tr>\n",
              "      <th>Região Sudeste</th>\n",
              "      <td>154</td>\n",
              "      <td>135</td>\n",
              "      <td>87.7</td>\n",
              "      <td>47.2</td>\n",
              "    </tr>\n",
              "    <tr>\n",
              "      <th>Região Nordeste</th>\n",
              "      <td>64</td>\n",
              "      <td>59</td>\n",
              "      <td>92.2</td>\n",
              "      <td>20.6</td>\n",
              "    </tr>\n",
              "    <tr>\n",
              "      <th>Região Sul</th>\n",
              "      <td>53</td>\n",
              "      <td>46</td>\n",
              "      <td>86.8</td>\n",
              "      <td>16.1</td>\n",
              "    </tr>\n",
              "    <tr>\n",
              "      <th>Região Norte</th>\n",
              "      <td>31</td>\n",
              "      <td>26</td>\n",
              "      <td>83.9</td>\n",
              "      <td>9.1</td>\n",
              "    </tr>\n",
              "    <tr>\n",
              "      <th>Região Centro-Oeste</th>\n",
              "      <td>24</td>\n",
              "      <td>20</td>\n",
              "      <td>83.3</td>\n",
              "      <td>7.0</td>\n",
              "    </tr>\n",
              "  </tbody>\n",
              "</table>\n",
              "</div>"
            ],
            "text/plain": [
              "                     total_municipios  ...  porcent_do_total_uma_fonte\n",
              "Região Sudeste                    154  ...                        47.2\n",
              "Região Nordeste                    64  ...                        20.6\n",
              "Região Sul                         53  ...                        16.1\n",
              "Região Norte                       31  ...                         9.1\n",
              "Região Centro-Oeste                24  ...                         7.0\n",
              "\n",
              "[5 rows x 4 columns]"
            ]
          },
          "metadata": {
            "tags": []
          },
          "execution_count": 25
        }
      ]
    },
    {
      "cell_type": "code",
      "metadata": {
        "colab": {
          "base_uri": "https://localhost:8080/"
        },
        "id": "ZPcvCw0OpB_L",
        "outputId": "cccc2c65-3df2-426d-bbd8-7acb35bd2756"
      },
      "source": [
        "municipios_uma_fonte['municipio'].values"
      ],
      "execution_count": 26,
      "outputs": [
        {
          "output_type": "execute_result",
          "data": {
            "text/plain": [
              "array(['Abaetetuba (PA)', 'Abreu e Lima (PE)', 'Alagoinhas (BA)',\n",
              "       'Almirante Tamandaré (PR)', 'Altamira (PA)', 'Alvorada (RS)',\n",
              "       'Americana (SP)', 'Ananindeua (PA)', 'Angra Dos Reis (RJ)',\n",
              "       'Anápolis (GO)', 'Aparecida de Goiânia (GO)', 'Apucarana (PR)',\n",
              "       'Aracaju (SE)', 'Aracruz (ES)', 'Araguari (MG)', 'Araguaína (TO)',\n",
              "       'Arapiraca (AL)', 'Arapongas (PR)', 'Araras (SP)', 'Araruama (RJ)',\n",
              "       'Araucária (PR)', 'Araxá (MG)', 'Araçatuba (SP)', 'Ariquemes (RO)',\n",
              "       'Atibaia (SP)', 'Açailândia (MA)', 'Bacabal (MA)', 'Bagé (RS)',\n",
              "       'Balneário Camboriú (SC)', 'Barbacena (MG)', 'Barcarena (PA)',\n",
              "       'Barra Mansa (RJ)', 'Barra do Piraí (RJ)', 'Barreiras (BA)',\n",
              "       'Barretos (SP)', 'Barueri (SP)', 'Bauru (SP)',\n",
              "       'Belo Horizonte (MG)', 'Belém (PA)', 'Bento Gonçalves (RS)',\n",
              "       'Betim (MG)', 'Birigui (SP)', 'Blumenau (SC)', 'Boa Vista (RR)',\n",
              "       'Botucatu (SP)', 'Bragança Paulista (SP)', 'Brusque (SC)',\n",
              "       'Cabo Frio (RJ)', 'Cabo de Santo Agostinho (PE)',\n",
              "       'Cachoeiro de Itapemirim (ES)', 'Caieiras (SP)', 'Camaragibe (PE)',\n",
              "       'Camaçari (BA)', 'Cambé (PR)', 'Campina Grande (PB)',\n",
              "       'Campinas (SP)', 'Campo Grande (MS)', 'Campo Largo (PR)',\n",
              "       'Canoas (RS)', 'Caraguatatuba (SP)', 'Carapicuíba (SP)',\n",
              "       'Cariacica (ES)', 'Caruaru (PE)', 'Cascavel (PR)',\n",
              "       'Castanhal (PA)', 'Catalão (GO)', 'Catanduva (SP)', 'Caucaia (CE)',\n",
              "       'Caxias (MA)', 'Caxias do Sul (RS)', 'Chapecó (SC)',\n",
              "       'Colombo (PR)', 'Conselheiro Lafaiete (MG)', 'Contagem (MG)',\n",
              "       'Coronel Fabriciano (MG)', 'Corumbá (MS)', 'Cotia (SP)',\n",
              "       'Crato (CE)', 'Criciúma (SC)', 'Cubatão (SP)', 'Diadema (SP)',\n",
              "       'Divinópolis (MG)', 'Dourados (MS)', 'Duque de Caxias (RJ)',\n",
              "       'Embu (SP)', 'Erechim (RS)', 'Eunápolis (BA)',\n",
              "       'Fazenda Rio Grande (PR)', 'Feira de Santana (BA)',\n",
              "       'Ferraz de Vasconcelos (SP)', 'Florianópolis (SC)', 'Formosa (GO)',\n",
              "       'Fortaleza (CE)', 'Foz do Iguaçu (PR)', 'Franca (SP)',\n",
              "       'Francisco Morato (SP)', 'Franco da Rocha (SP)', 'Garanhuns (PE)',\n",
              "       'Goiânia (GO)', 'Governador Valadares (MG)', 'Gravataí (RS)',\n",
              "       'Guarapari (ES)', 'Guarapuava (PR)', 'Guaratinguetá (SP)',\n",
              "       'Guarujá (SP)', 'Guarulhos (SP)', 'Ibirité (MG)', 'Igarassu (PE)',\n",
              "       'Iguatu (CE)', 'Ilhéus (BA)', 'Imperatriz (MA)', 'Indaiatuba (SP)',\n",
              "       'Ipatinga (MG)', 'Itabira (MG)', 'Itaboraí (RJ)', 'Itabuna (BA)',\n",
              "       'Itacoatiara (AM)', 'Itaguaí (RJ)', 'Itaituba (PA)',\n",
              "       'Itanhaém (SP)', 'Itapecerica da Serra (SP)', 'Itaperuna (RJ)',\n",
              "       'Itapetininga (SP)', 'Itapipoca (CE)', 'Itaquaquecetuba (SP)',\n",
              "       'Itatiba (SP)', 'Ituiutaba (MG)', 'Itumbiara (GO)',\n",
              "       'Jaboatão Dos Guararapes (PE)', 'Jacareí (SP)', 'Japeri (RJ)',\n",
              "       'Jaraguá do Sul (SC)', 'Jataí (GO)', 'Jaú (SP)', 'Jequié (BA)',\n",
              "       'Ji-paraná (RO)', 'João Pessoa (PB)', 'Juazeiro (BA)',\n",
              "       'Juazeiro do Norte (CE)', 'Jundiaí (SP)', 'Lagarto (SE)',\n",
              "       'Lages (SC)', 'Lauro de Freitas (BA)', 'Lavras (MG)', 'Leme (SP)',\n",
              "       'Limeira (SP)', 'Linhares (ES)', 'Londrina (PR)', 'Luziânia (GO)',\n",
              "       'Macapá (AP)', 'Macaé (RJ)', 'Maceió (AL)', 'Magé (RJ)',\n",
              "       'Mairiporã (SP)', 'Manaus (AM)', 'Marabá (PA)', 'Maracanaú (CE)',\n",
              "       'Maranguape (CE)', 'Maricá (RJ)', 'Maringá (PR)', 'Marituba (PA)',\n",
              "       'Marília (SP)', 'Mauá (SP)', 'Mesquita (RJ)', 'Mogi Guaçu (SP)',\n",
              "       'Moji Das Cruzes (SP)', 'Montes Claros (MG)', 'Mossoró (RN)',\n",
              "       'Muriaé (MG)', 'Natal (RN)', 'Niterói (RJ)',\n",
              "       'Nossa Senhora do Socorro (SE)', 'Nova Friburgo (RJ)',\n",
              "       'Nova Serrana (MG)', 'Novo Gama (GO)', 'Novo Hamburgo (RS)',\n",
              "       'Osasco (SP)', 'Ourinhos (SP)', 'Palhoça (SC)', 'Paragominas (PA)',\n",
              "       'Paranaguá (PR)', 'Parauapebas (PA)', 'Parintins (AM)',\n",
              "       'Parnamirim (RN)', 'Parnaíba (PI)', 'Passo Fundo (RS)',\n",
              "       'Passos (MG)', 'Patos (PB)', 'Patos de Minas (MG)',\n",
              "       'Paulista (PE)', 'Paulo Afonso (BA)', 'Paulínia (SP)',\n",
              "       'Paço do Lumiar (MA)', 'Pelotas (RS)', 'Petrolina (PE)',\n",
              "       'Petrópolis (RJ)', 'Pindamonhangaba (SP)', 'Pinhais (PR)',\n",
              "       'Piracicaba (SP)', 'Piraquara (PR)', 'Ponta Grossa (PR)',\n",
              "       'Porto Alegre (RS)', 'Porto Seguro (BA)', 'Poá (SP)',\n",
              "       'Poços de Caldas (MG)', 'Praia Grande (SP)',\n",
              "       'Presidente Prudente (SP)', 'Queimados (RJ)', 'Resende (RJ)',\n",
              "       'Ribeirão Das Neves (MG)', 'Ribeirão Pires (SP)',\n",
              "       'Rio Branco (AC)', 'Rio Claro (SP)', 'Rio Das Ostras (RJ)',\n",
              "       'Rio Grande (RS)', 'Rio Verde (GO)', 'Rio de Janeiro (RJ)',\n",
              "       'Rondonópolis (MT)', 'Sabará (MG)', 'Salto (SP)', 'Salvador (BA)',\n",
              "       'Santa Bárbara D´oeste (SP)', 'Santa Luzia (MG)',\n",
              "       'Santa Maria (RS)', 'Santa Rita (PB)', 'Santana (AP)',\n",
              "       'Santana de Parnaíba (SP)', 'Santarém (PA)',\n",
              "       'Santo Antônio de Jesus (BA)', 'Santos (SP)',\n",
              "       'Senador Canedo (GO)', 'Serra (ES)', 'Sertãozinho (SP)',\n",
              "       'Sete Lagoas (MG)', 'Simões Filho (BA)', 'Sobral (CE)',\n",
              "       'Sorocaba (SP)', 'Sumaré (SP)', 'Suzano (SP)',\n",
              "       'São Caetano do Sul (SP)', 'São Carlos (SP)',\n",
              "       'São Félix do Xingu (PA)', 'São Gonçalo (RJ)', 'São José (SC)',\n",
              "       'São José Dos Campos (SP)', 'São José Dos Pinhais (PR)',\n",
              "       'São José de Ribamar (MA)', 'São José do Rio Preto (SP)',\n",
              "       'São Leopoldo (RS)', 'São Lourenço da Mata (PE)', 'São Luís (MA)',\n",
              "       'São Mateus (ES)', 'São Paulo (SP)', 'São Vicente (SP)',\n",
              "       'Taboão da Serra (SP)', 'Tailândia (PA)', 'Tangará da Serra (MT)',\n",
              "       'Tatuí (SP)', 'Taubaté (SP)', 'Teixeira de Freitas (BA)',\n",
              "       'Teresina (PI)', 'Teresópolis (RJ)', 'Teófilo Otoni (MG)',\n",
              "       'Timon (MA)', 'Toledo (PR)', 'Trindade (GO)', 'Tubarão (SC)',\n",
              "       'Tucuruí (PA)', 'Uberaba (MG)', 'Uberlândia (MG)', 'Ubá (MG)',\n",
              "       'Uruguaiana (RS)', 'Valinhos (SP)', 'Valparaíso de Goiás (GO)',\n",
              "       'Varginha (MG)', 'Vespasiano (MG)', 'Viamão (RS)',\n",
              "       'Vila Velha (ES)', 'Vilhena (RO)', 'Vitória da Conquista (BA)',\n",
              "       'Vitória de Santo Antão (PE)', 'Volta Redonda (RJ)',\n",
              "       'Votorantim (SP)', 'Várzea Grande (MT)', 'Várzea Paulista (SP)',\n",
              "       'Águas Lindas de Goiás (GO)'], dtype=object)"
            ]
          },
          "metadata": {
            "tags": []
          },
          "execution_count": 26
        }
      ]
    },
    {
      "cell_type": "markdown",
      "metadata": {
        "id": "JyoIYaJCVL9L"
      },
      "source": [
        "Vamos exportar os dados para .csv, o que possibilitará gerar visualização fora do notebook."
      ]
    },
    {
      "cell_type": "code",
      "metadata": {
        "id": "YpSQxK5oVLbj"
      },
      "source": [
        "municipios_uma_fonte_overview.insert(loc=0, column='regiao_name', value=regiao_name)\n",
        "municipios_uma_fonte_overview.to_csv(r'pergunta_3.csv', index=False)"
      ],
      "execution_count": 27,
      "outputs": []
    },
    {
      "cell_type": "markdown",
      "metadata": {
        "id": "Aehl8Dpmno6_"
      },
      "source": [
        "### Conclusão 3\n",
        "\n",
        "286 municípios realizam a publicação do Diário Oficial em apenas um site, isso corresponde a 87.73% do total de municípios com mais de 100 mil habitantes.\n",
        "\n",
        "A maior parte dos municípios com apenas uma fonte de publicação encontra-se na região Sudeste (47%). No entanto, entre as regiões do país, Nordeste é a que possui maior incidência de municipios que publicam seus diário oficiais em apenas uma fonte, com 92%.\n",
        "\n",
        "A lista completa de municípios com apenas uma fonte é a seguinte:\n",
        "\n",
        "\n",
        "Abaetetuba (PA), Abreu e Lima (PE), Alagoinhas (BA), Almirante Tamandaré (PR), Altamira (PA), Alvorada (RS), Americana (SP), Ananindeua (PA), Angra Dos Reis (RJ), Anápolis (GO), Aparecida de Goiânia (GO), Apucarana (PR), Aracaju (SE), Aracruz (ES), Araguari (MG), Araguaína (TO), Arapiraca (AL), Arapongas (PR), Araras (SP), Araruama (RJ), Araucária (PR), Araxá (MG), Araçatuba (SP), Ariquemes (RO), Atibaia (SP), Açailândia (MA), Bacabal (MA), Bagé (RS), Balneário Camboriú (SC), Barbacena (MG), Barcarena (PA), Barra Mansa (RJ), Barra do Piraí (RJ), Barreiras (BA), Barretos (SP), Barueri (SP), Bauru (SP), Belo Horizonte (MG), Belém (PA), Bento Gonçalves (RS), Betim (MG), Birigui (SP), Blumenau (SC), Boa Vista (RR), Botucatu (SP), Bragança Paulista (SP), Brusque (SC), Cabo Frio (RJ), Cabo de Santo Agostinho (PE), Cachoeiro de Itapemirim (ES), Caieiras (SP), Camaragibe (PE), Camaçari (BA), Cambé (PR), Campina Grande (PB), Campinas (SP), Campo Grande (MS), Campo Largo (PR), Canoas (RS), Caraguatatuba (SP), Carapicuíba (SP), Cariacica (ES), Caruaru (PE), Cascavel (PR), Castanhal (PA), Catalão (GO), Catanduva (SP), Caucaia (CE), Caxias (MA), Caxias do Sul (RS), Chapecó (SC), Colombo (PR), Conselheiro Lafaiete (MG), Contagem (MG), Coronel Fabriciano (MG), Corumbá (MS), Cotia (SP), Crato (CE), Criciúma (SC), Cubatão (SP), Diadema (SP), Divinópolis (MG), Dourados (MS), Duque de Caxias (RJ), Embu (SP), Erechim (RS), Eunápolis (BA), Fazenda Rio Grande (PR), Feira de Santana (BA), Ferraz de Vasconcelos (SP), Florianópolis (SC), Formosa (GO), Fortaleza (CE), Foz do Iguaçu (PR), Franca (SP), Francisco Morato (SP), Franco da Rocha (SP), Garanhuns (PE), Goiânia (GO), Governador Valadares (MG), Gravataí (RS), Guarapari (ES), Guarapuava (PR), Guaratinguetá (SP), Guarujá (SP), Guarulhos (SP), Ibirité (MG), Igarassu (PE), Iguatu (CE), Ilhéus (BA), Imperatriz (MA), Indaiatuba (SP), Ipatinga (MG), Itabira (MG), Itaboraí (RJ), Itabuna (BA), Itacoatiara (AM), Itaguaí (RJ), Itaituba (PA), Itanhaém (SP), Itapecerica da Serra (SP), Itaperuna (RJ), Itapetininga (SP), Itapipoca (CE), Itaquaquecetuba (SP), Itatiba (SP), Ituiutaba (MG), Itumbiara (GO), Jaboatão Dos Guararapes (PE), Jacareí (SP), Japeri (RJ), Jaraguá do Sul (SC), Jataí (GO), Jaú (SP), Jequié (BA), Ji-paraná (RO), João Pessoa (PB), Juazeiro (BA), Juazeiro do Norte (CE), Jundiaí (SP), Lagarto (SE), Lages (SC), Lauro de Freitas (BA), Lavras (MG), Leme (SP), Limeira (SP), Linhares (ES), Londrina (PR), Luziânia (GO), Macapá (AP), Macaé (RJ), Maceió (AL), Magé (RJ), Mairiporã (SP), Manaus (AM), Marabá (PA), Maracanaú (CE), Maranguape (CE), Maricá (RJ), Maringá (PR), Marituba (PA), Marília (SP), Mauá (SP), Mesquita (RJ), Mogi Guaçu (SP), Moji Das Cruzes (SP), Montes Claros (MG), Mossoró (RN), Muriaé (MG), Natal (RN), Niterói (RJ), Nossa Senhora do Socorro (SE), Nova Friburgo (RJ), Nova Serrana (MG), Novo Gama (GO), Novo Hamburgo (RS), Osasco (SP), Ourinhos (SP), Palhoça (SC), Paragominas (PA), Paranaguá (PR), Parauapebas (PA), Parintins (AM), Parnamirim (RN), Parnaíba (PI), Passo Fundo (RS), Passos (MG), Patos (PB), Patos de Minas (MG), Paulista (PE), Paulo Afonso (BA), Paulínia (SP), Paço do Lumiar (MA), Pelotas (RS), Petrolina (PE), Petrópolis (RJ), Pindamonhangaba (SP), Pinhais (PR), Piracicaba (SP), Piraquara (PR), Ponta Grossa (PR), Porto Alegre (RS), Porto Seguro (BA), Poá (SP), Poços de Caldas (MG), Praia Grande (SP), Presidente Prudente (SP), Queimados (RJ), Resende (RJ), Ribeirão Das Neves (MG), Ribeirão Pires (SP), Rio Branco (AC), Rio Claro (SP), Rio Das Ostras (RJ), Rio Grande (RS), Rio Verde (GO), Rio de Janeiro (RJ), Rondonópolis (MT), Sabará (MG), Salto (SP), Salvador (BA), Santa Bárbara D´oeste (SP), Santa Luzia (MG), Santa Maria (RS), Santa Rita (PB), Santana (AP), Santana de Parnaíba (SP), Santarém (PA), Santo Antônio de Jesus (BA), Santos (SP), Senador Canedo (GO), Serra (ES), Sertãozinho (SP), Sete Lagoas (MG), Simões Filho (BA), Sobral (CE), Sorocaba (SP), Sumaré (SP), Suzano (SP), São Caetano do Sul (SP), São Carlos (SP), São Félix do Xingu (PA), São Gonçalo (RJ), São José (SC), São José Dos Campos (SP), São José Dos Pinhais (PR), São José de Ribamar (MA), São José do Rio Preto (SP), São Leopoldo (RS), São Lourenço da Mata (PE), São Luís (MA), São Mateus (ES), São Paulo (SP), São Vicente (SP), Taboão da Serra (SP), Tailândia (PA), Tangará da Serra (MT), Tatuí (SP), Taubaté (SP), Teixeira de Freitas (BA), Teresina (PI), Teresópolis (RJ), Teófilo Otoni (MG), Timon (MA), Toledo (PR), Trindade (GO), Tubarão (SC), Tucuruí (PA), Uberaba (MG), Uberlândia (MG), Ubá (MG), Uruguaiana (RS), Valinhos (SP), Valparaíso de Goiás (GO), Varginha (MG), Vespasiano (MG), Viamão (RS), Vila Velha (ES), Vilhena (RO), Vitória da Conquista (BA), Vitória de Santo Antão (PE), Volta Redonda (RJ), Votorantim (SP), Várzea Grande (MT), Várzea Paulista (SP), Águas Lindas de Goiás (GO)\n",
        "\n",
        "---------------------------------\n"
      ]
    },
    {
      "cell_type": "markdown",
      "metadata": {
        "id": "AKUEa_LN7q8T"
      },
      "source": [
        "## 4. Quais os municípios possuem mais de 1 fonte de publicação?\n",
        "\n",
        "Utilizando novamente a quantidade de fontes, podemos encontrar apenas os municípios que possuem mais de uma fonte."
      ]
    },
    {
      "cell_type": "code",
      "metadata": {
        "id": "OfwO0byU7ySe",
        "colab": {
          "base_uri": "https://localhost:8080/"
        },
        "outputId": "fa48fd69-708b-4dca-abab-b372c1f8a8b4"
      },
      "source": [
        "municipios_many_fontes = municipios[municipios['fontes_qtd'] > 1]\n",
        "municipios_many_fontes.shape"
      ],
      "execution_count": 28,
      "outputs": [
        {
          "output_type": "execute_result",
          "data": {
            "text/plain": [
              "(40, 15)"
            ]
          },
          "metadata": {
            "tags": []
          },
          "execution_count": 28
        }
      ]
    },
    {
      "cell_type": "code",
      "metadata": {
        "id": "EtXbD3Yl8Wtl",
        "colab": {
          "base_uri": "https://localhost:8080/"
        },
        "outputId": "1fa3cae7-b8cf-4f4a-958a-b1612c1d73a9"
      },
      "source": [
        "total_municipios_many_fontes = municipios_many_fontes.shape[0]\n",
        "percentage_municipios_many_fontes = round((total_municipios_many_fontes / total_municipios * 100), 2)\n",
        "percentage_municipios_many_fontes"
      ],
      "execution_count": 29,
      "outputs": [
        {
          "output_type": "execute_result",
          "data": {
            "text/plain": [
              "12.27"
            ]
          },
          "metadata": {
            "tags": []
          },
          "execution_count": 29
        }
      ]
    },
    {
      "cell_type": "code",
      "metadata": {
        "colab": {
          "base_uri": "https://localhost:8080/"
        },
        "id": "YLM70osy8csW",
        "outputId": "560bf2cc-596e-46dc-a1b7-da3453f732df"
      },
      "source": [
        "total_municipios_many_fontes_regiao = municipios_many_fontes['regiao'].value_counts()\n",
        "total_municipios_many_fontes_regiao_absolute_values = total_municipios_many_fontes_regiao.to_list()\n",
        "total_municipios_many_fontes_regiao"
      ],
      "execution_count": 30,
      "outputs": [
        {
          "output_type": "execute_result",
          "data": {
            "text/plain": [
              "Região Sudeste         19\n",
              "Região Sul              7\n",
              "Região Nordeste         5\n",
              "Região Norte            5\n",
              "Região Centro-Oeste     4\n",
              "Name: regiao, dtype: int64"
            ]
          },
          "metadata": {
            "tags": []
          },
          "execution_count": 30
        }
      ]
    },
    {
      "cell_type": "code",
      "metadata": {
        "id": "z3laHK_MFLK2",
        "colab": {
          "base_uri": "https://localhost:8080/"
        },
        "outputId": "d47b7224-e39b-4e8e-953a-eeeab8d13265"
      },
      "source": [
        "percentages_regioes_many_fontes = []\n",
        "\n",
        "for total_in_regiao in total_municipios_many_fontes_regiao_absolute_values:\n",
        "    percentage = round((total_in_regiao / total_municipios_many_fontes *100), 1)\n",
        "    percentages_regioes_many_fontes.append(percentage)\n",
        "\n",
        "percentages_regioes_many_fontes"
      ],
      "execution_count": 31,
      "outputs": [
        {
          "output_type": "execute_result",
          "data": {
            "text/plain": [
              "[47.5, 17.5, 12.5, 12.5, 10.0]"
            ]
          },
          "metadata": {
            "tags": []
          },
          "execution_count": 31
        }
      ]
    },
    {
      "cell_type": "code",
      "metadata": {
        "id": "TiqwwFPE8cvw",
        "colab": {
          "base_uri": "https://localhost:8080/"
        },
        "outputId": "7fc82b05-2a7f-4a4e-bfbe-a0823b7c70b1"
      },
      "source": [
        "regiao_name = total_municipios_many_fontes_regiao.index.to_list()\n",
        "regiao_name"
      ],
      "execution_count": 32,
      "outputs": [
        {
          "output_type": "execute_result",
          "data": {
            "text/plain": [
              "['Região Sudeste',\n",
              " 'Região Sul',\n",
              " 'Região Nordeste',\n",
              " 'Região Norte',\n",
              " 'Região Centro-Oeste']"
            ]
          },
          "metadata": {
            "tags": []
          },
          "execution_count": 32
        }
      ]
    },
    {
      "cell_type": "code",
      "metadata": {
        "colab": {
          "base_uri": "https://localhost:8080/",
          "height": 206
        },
        "id": "GWp84saY8-ia",
        "outputId": "14e18151-12aa-4e6a-f6f1-23d528862c40"
      },
      "source": [
        "municipios_many_fontes_overview = pd.DataFrame(\n",
        "    data={\n",
        "        'municipios_many_fontes': total_municipios_many_fontes_regiao_absolute_values,\n",
        "        'porcent_do_total_many_fontes': percentages_regioes_many_fontes\n",
        "    }, \n",
        "    index=regiao_name\n",
        ")\n",
        "municipios_many_fontes_overview"
      ],
      "execution_count": 33,
      "outputs": [
        {
          "output_type": "execute_result",
          "data": {
            "text/html": [
              "<div>\n",
              "<style scoped>\n",
              "    .dataframe tbody tr th:only-of-type {\n",
              "        vertical-align: middle;\n",
              "    }\n",
              "\n",
              "    .dataframe tbody tr th {\n",
              "        vertical-align: top;\n",
              "    }\n",
              "\n",
              "    .dataframe thead th {\n",
              "        text-align: right;\n",
              "    }\n",
              "</style>\n",
              "<table border=\"1\" class=\"dataframe\">\n",
              "  <thead>\n",
              "    <tr style=\"text-align: right;\">\n",
              "      <th></th>\n",
              "      <th>municipios_many_fontes</th>\n",
              "      <th>porcent_do_total_many_fontes</th>\n",
              "    </tr>\n",
              "  </thead>\n",
              "  <tbody>\n",
              "    <tr>\n",
              "      <th>Região Sudeste</th>\n",
              "      <td>19</td>\n",
              "      <td>47.5</td>\n",
              "    </tr>\n",
              "    <tr>\n",
              "      <th>Região Sul</th>\n",
              "      <td>7</td>\n",
              "      <td>17.5</td>\n",
              "    </tr>\n",
              "    <tr>\n",
              "      <th>Região Nordeste</th>\n",
              "      <td>5</td>\n",
              "      <td>12.5</td>\n",
              "    </tr>\n",
              "    <tr>\n",
              "      <th>Região Norte</th>\n",
              "      <td>5</td>\n",
              "      <td>12.5</td>\n",
              "    </tr>\n",
              "    <tr>\n",
              "      <th>Região Centro-Oeste</th>\n",
              "      <td>4</td>\n",
              "      <td>10.0</td>\n",
              "    </tr>\n",
              "  </tbody>\n",
              "</table>\n",
              "</div>"
            ],
            "text/plain": [
              "                     municipios_many_fontes  porcent_do_total_many_fontes\n",
              "Região Sudeste                           19                          47.5\n",
              "Região Sul                                7                          17.5\n",
              "Região Nordeste                           5                          12.5\n",
              "Região Norte                              5                          12.5\n",
              "Região Centro-Oeste                       4                          10.0"
            ]
          },
          "metadata": {
            "tags": []
          },
          "execution_count": 33
        }
      ]
    },
    {
      "cell_type": "code",
      "metadata": {
        "id": "R1lyXV8gG8cs",
        "colab": {
          "base_uri": "https://localhost:8080/",
          "height": 206
        },
        "outputId": "eef89882-1124-4538-d370-add9546052d7"
      },
      "source": [
        "municipios_many_fontes_overview['total_municipios'] = municipios['regiao'].value_counts()\n",
        "municipios_many_fontes_overview"
      ],
      "execution_count": 34,
      "outputs": [
        {
          "output_type": "execute_result",
          "data": {
            "text/html": [
              "<div>\n",
              "<style scoped>\n",
              "    .dataframe tbody tr th:only-of-type {\n",
              "        vertical-align: middle;\n",
              "    }\n",
              "\n",
              "    .dataframe tbody tr th {\n",
              "        vertical-align: top;\n",
              "    }\n",
              "\n",
              "    .dataframe thead th {\n",
              "        text-align: right;\n",
              "    }\n",
              "</style>\n",
              "<table border=\"1\" class=\"dataframe\">\n",
              "  <thead>\n",
              "    <tr style=\"text-align: right;\">\n",
              "      <th></th>\n",
              "      <th>municipios_many_fontes</th>\n",
              "      <th>porcent_do_total_many_fontes</th>\n",
              "      <th>total_municipios</th>\n",
              "    </tr>\n",
              "  </thead>\n",
              "  <tbody>\n",
              "    <tr>\n",
              "      <th>Região Sudeste</th>\n",
              "      <td>19</td>\n",
              "      <td>47.5</td>\n",
              "      <td>154</td>\n",
              "    </tr>\n",
              "    <tr>\n",
              "      <th>Região Sul</th>\n",
              "      <td>7</td>\n",
              "      <td>17.5</td>\n",
              "      <td>53</td>\n",
              "    </tr>\n",
              "    <tr>\n",
              "      <th>Região Nordeste</th>\n",
              "      <td>5</td>\n",
              "      <td>12.5</td>\n",
              "      <td>64</td>\n",
              "    </tr>\n",
              "    <tr>\n",
              "      <th>Região Norte</th>\n",
              "      <td>5</td>\n",
              "      <td>12.5</td>\n",
              "      <td>31</td>\n",
              "    </tr>\n",
              "    <tr>\n",
              "      <th>Região Centro-Oeste</th>\n",
              "      <td>4</td>\n",
              "      <td>10.0</td>\n",
              "      <td>24</td>\n",
              "    </tr>\n",
              "  </tbody>\n",
              "</table>\n",
              "</div>"
            ],
            "text/plain": [
              "                     municipios_many_fontes  ...  total_municipios\n",
              "Região Sudeste                           19  ...               154\n",
              "Região Sul                                7  ...                53\n",
              "Região Nordeste                           5  ...                64\n",
              "Região Norte                              5  ...                31\n",
              "Região Centro-Oeste                       4  ...                24\n",
              "\n",
              "[5 rows x 3 columns]"
            ]
          },
          "metadata": {
            "tags": []
          },
          "execution_count": 34
        }
      ]
    },
    {
      "cell_type": "code",
      "metadata": {
        "id": "XPrnLR0JHGNX",
        "colab": {
          "base_uri": "https://localhost:8080/",
          "height": 206
        },
        "outputId": "2acf81ac-4f7b-455b-f694-1b65c34363ac"
      },
      "source": [
        "percentage_regiao_many_fontes = round(\n",
        "    (municipios_many_fontes_overview['municipios_many_fontes'] / municipios_many_fontes_overview['total_municipios']) * 100,\n",
        "    1\n",
        ")\n",
        "municipios_many_fontes_overview['porcent_por_regiao_many_fontes'] = percentage_regiao_many_fontes\n",
        "municipios_many_fontes_overview"
      ],
      "execution_count": 35,
      "outputs": [
        {
          "output_type": "execute_result",
          "data": {
            "text/html": [
              "<div>\n",
              "<style scoped>\n",
              "    .dataframe tbody tr th:only-of-type {\n",
              "        vertical-align: middle;\n",
              "    }\n",
              "\n",
              "    .dataframe tbody tr th {\n",
              "        vertical-align: top;\n",
              "    }\n",
              "\n",
              "    .dataframe thead th {\n",
              "        text-align: right;\n",
              "    }\n",
              "</style>\n",
              "<table border=\"1\" class=\"dataframe\">\n",
              "  <thead>\n",
              "    <tr style=\"text-align: right;\">\n",
              "      <th></th>\n",
              "      <th>municipios_many_fontes</th>\n",
              "      <th>porcent_do_total_many_fontes</th>\n",
              "      <th>total_municipios</th>\n",
              "      <th>porcent_por_regiao_many_fontes</th>\n",
              "    </tr>\n",
              "  </thead>\n",
              "  <tbody>\n",
              "    <tr>\n",
              "      <th>Região Sudeste</th>\n",
              "      <td>19</td>\n",
              "      <td>47.5</td>\n",
              "      <td>154</td>\n",
              "      <td>12.3</td>\n",
              "    </tr>\n",
              "    <tr>\n",
              "      <th>Região Sul</th>\n",
              "      <td>7</td>\n",
              "      <td>17.5</td>\n",
              "      <td>53</td>\n",
              "      <td>13.2</td>\n",
              "    </tr>\n",
              "    <tr>\n",
              "      <th>Região Nordeste</th>\n",
              "      <td>5</td>\n",
              "      <td>12.5</td>\n",
              "      <td>64</td>\n",
              "      <td>7.8</td>\n",
              "    </tr>\n",
              "    <tr>\n",
              "      <th>Região Norte</th>\n",
              "      <td>5</td>\n",
              "      <td>12.5</td>\n",
              "      <td>31</td>\n",
              "      <td>16.1</td>\n",
              "    </tr>\n",
              "    <tr>\n",
              "      <th>Região Centro-Oeste</th>\n",
              "      <td>4</td>\n",
              "      <td>10.0</td>\n",
              "      <td>24</td>\n",
              "      <td>16.7</td>\n",
              "    </tr>\n",
              "  </tbody>\n",
              "</table>\n",
              "</div>"
            ],
            "text/plain": [
              "                     municipios_many_fontes  ...  porcent_por_regiao_many_fontes\n",
              "Região Sudeste                           19  ...                            12.3\n",
              "Região Sul                                7  ...                            13.2\n",
              "Região Nordeste                           5  ...                             7.8\n",
              "Região Norte                              5  ...                            16.1\n",
              "Região Centro-Oeste                       4  ...                            16.7\n",
              "\n",
              "[5 rows x 4 columns]"
            ]
          },
          "metadata": {
            "tags": []
          },
          "execution_count": 35
        }
      ]
    },
    {
      "cell_type": "code",
      "metadata": {
        "colab": {
          "base_uri": "https://localhost:8080/",
          "height": 206
        },
        "id": "fICEVMh5HsmH",
        "outputId": "bf663e93-391e-42e3-dc48-5305a771e63a"
      },
      "source": [
        "municipios_many_fontes_overview = municipios_many_fontes_overview[\n",
        "    ['total_municipios', 'municipios_many_fontes', 'porcent_por_regiao_many_fontes', 'porcent_do_total_many_fontes']\n",
        "]\n",
        "municipios_many_fontes_overview"
      ],
      "execution_count": 36,
      "outputs": [
        {
          "output_type": "execute_result",
          "data": {
            "text/html": [
              "<div>\n",
              "<style scoped>\n",
              "    .dataframe tbody tr th:only-of-type {\n",
              "        vertical-align: middle;\n",
              "    }\n",
              "\n",
              "    .dataframe tbody tr th {\n",
              "        vertical-align: top;\n",
              "    }\n",
              "\n",
              "    .dataframe thead th {\n",
              "        text-align: right;\n",
              "    }\n",
              "</style>\n",
              "<table border=\"1\" class=\"dataframe\">\n",
              "  <thead>\n",
              "    <tr style=\"text-align: right;\">\n",
              "      <th></th>\n",
              "      <th>total_municipios</th>\n",
              "      <th>municipios_many_fontes</th>\n",
              "      <th>porcent_por_regiao_many_fontes</th>\n",
              "      <th>porcent_do_total_many_fontes</th>\n",
              "    </tr>\n",
              "  </thead>\n",
              "  <tbody>\n",
              "    <tr>\n",
              "      <th>Região Sudeste</th>\n",
              "      <td>154</td>\n",
              "      <td>19</td>\n",
              "      <td>12.3</td>\n",
              "      <td>47.5</td>\n",
              "    </tr>\n",
              "    <tr>\n",
              "      <th>Região Sul</th>\n",
              "      <td>53</td>\n",
              "      <td>7</td>\n",
              "      <td>13.2</td>\n",
              "      <td>17.5</td>\n",
              "    </tr>\n",
              "    <tr>\n",
              "      <th>Região Nordeste</th>\n",
              "      <td>64</td>\n",
              "      <td>5</td>\n",
              "      <td>7.8</td>\n",
              "      <td>12.5</td>\n",
              "    </tr>\n",
              "    <tr>\n",
              "      <th>Região Norte</th>\n",
              "      <td>31</td>\n",
              "      <td>5</td>\n",
              "      <td>16.1</td>\n",
              "      <td>12.5</td>\n",
              "    </tr>\n",
              "    <tr>\n",
              "      <th>Região Centro-Oeste</th>\n",
              "      <td>24</td>\n",
              "      <td>4</td>\n",
              "      <td>16.7</td>\n",
              "      <td>10.0</td>\n",
              "    </tr>\n",
              "  </tbody>\n",
              "</table>\n",
              "</div>"
            ],
            "text/plain": [
              "                     total_municipios  ...  porcent_do_total_many_fontes\n",
              "Região Sudeste                    154  ...                          47.5\n",
              "Região Sul                         53  ...                          17.5\n",
              "Região Nordeste                    64  ...                          12.5\n",
              "Região Norte                       31  ...                          12.5\n",
              "Região Centro-Oeste                24  ...                          10.0\n",
              "\n",
              "[5 rows x 4 columns]"
            ]
          },
          "metadata": {
            "tags": []
          },
          "execution_count": 36
        }
      ]
    },
    {
      "cell_type": "code",
      "metadata": {
        "colab": {
          "base_uri": "https://localhost:8080/"
        },
        "id": "WfJcNi3Y23HJ",
        "outputId": "3ec73230-12f8-44a9-ba83-738589536b85"
      },
      "source": [
        "municipios_many_fontes['municipio'].values"
      ],
      "execution_count": 37,
      "outputs": [
        {
          "output_type": "execute_result",
          "data": {
            "text/plain": [
              "array(['Araraquara (SP)', 'Assis (SP)', 'Belford Roxo (RJ)',\n",
              "       'Bragança (PA)', 'Brasília (DF)', 'Breves (PA)',\n",
              "       'Cachoeirinha (RS)', 'Cametá (PA)', 'Campos Dos Goytacazes (RJ)',\n",
              "       'Codó (MA)', 'Colatina (ES)', 'Cuiabá (MT)', 'Curitiba (PR)',\n",
              "       'Hortolândia (SP)', 'Itajaí (SC)', 'Itapevi (SP)', 'Itu (SP)',\n",
              "       'Jandira (SP)', 'Joinville (SC)', 'Juiz de Fora (MG)',\n",
              "       'Nilópolis (RJ)', 'Nova Iguaçu (RJ)', 'Olinda (PE)', 'Palmas (TO)',\n",
              "       'Porto Velho (RO)', 'Pouso Alegre (MG)', 'Recife (PE)',\n",
              "       'Ribeirão Preto (SP)', 'Santa Cruz do Capibaribe (PE)',\n",
              "       'Santa Cruz do Sul (RS)', 'Santo André (SP)',\n",
              "       'Sapucaia do Sul (RS)', 'Sinop (MT)', 'São Bernardo do Campo (SP)',\n",
              "       'São Gonçalo do Amarante (RN)', 'São João de Meriti (RJ)',\n",
              "       'São Pedro da Aldeia (RJ)', 'Três Lagoas (MS)', 'Umuarama (PR)',\n",
              "       'Vitória (ES)'], dtype=object)"
            ]
          },
          "metadata": {
            "tags": []
          },
          "execution_count": 37
        }
      ]
    },
    {
      "cell_type": "markdown",
      "metadata": {
        "id": "rM8Q5taQZNjC"
      },
      "source": [
        "Vamos exportar os dados para .csv, o que possibilitará gerar visualização fora do notebook."
      ]
    },
    {
      "cell_type": "code",
      "metadata": {
        "id": "Uv9Sw0eCY_DA"
      },
      "source": [
        "municipios_many_fontes_overview.insert(loc=0, column='regiao_name', value=regiao_name)\n",
        "municipios_many_fontes_overview.to_csv(r'pergunta_4.csv', index=False)"
      ],
      "execution_count": 38,
      "outputs": []
    },
    {
      "cell_type": "markdown",
      "metadata": {
        "id": "Hup6qBvhImu4"
      },
      "source": [
        "### Conclusão 4\n",
        "\n",
        "40 municípios realizam a publicação do Diário Oficial em mais de um site, isso corresponde a 12.27% do total de municípios com mais de 100 mil habitantes.\n",
        "\n",
        "A maior parte dos municípios com várias fontes de publicação encontra-se na região Sudeste (47%). No entanto, entre as regiões do país, Centro-oeste é a que possui maior incidência de municipios que publicam seus diário oficiais em várias fontes, com 16,7%.\n",
        "\n",
        "A lista completa de municípios com apenas uma fonte é a seguinte:\n",
        "\n",
        "'Araraquara (SP)', 'Assis (SP)', 'Belford Roxo (RJ)',\n",
        "       'Bragança (PA)', 'Brasília (DF)', 'Breves (PA)',\n",
        "       'Cachoeirinha (RS)', 'Cametá (PA)', 'Campos Dos Goytacazes (RJ)',\n",
        "       'Codó (MA)', 'Colatina (ES)', 'Cuiabá (MT)', 'Curitiba (PR)',\n",
        "       'Hortolândia (SP)', 'Itajaí (SC)', 'Itapevi (SP)', 'Itu (SP)',\n",
        "       'Jandira (SP)', 'Joinville (SC)', 'Juiz de Fora (MG)',\n",
        "       'Nilópolis (RJ)', 'Nova Iguaçu (RJ)', 'Olinda (PE)', 'Palmas (TO)',\n",
        "       'Porto Velho (RO)', 'Pouso Alegre (MG)', 'Recife (PE)',\n",
        "       'Ribeirão Preto (SP)', 'Santa Cruz do Capibaribe (PE)',\n",
        "       'Santa Cruz do Sul (RS)', 'Santo André (SP)',\n",
        "       'Sapucaia do Sul (RS)', 'Sinop (MT)', 'São Bernardo do Campo (SP)',\n",
        "       'São Gonçalo do Amarante (RN)', 'São João de Meriti (RJ)',\n",
        "       'São Pedro da Aldeia (RJ)', 'Três Lagoas (MS)', 'Umuarama (PR)',\n",
        "       'Vitória (ES)'"
      ]
    },
    {
      "cell_type": "markdown",
      "metadata": {
        "id": "q7yTXtA793iN"
      },
      "source": [
        "## 5. Esse municípios com várias fontes de publicação, predominam em alguma região do país?"
      ]
    },
    {
      "cell_type": "markdown",
      "metadata": {
        "id": "yQuD4ake97ol"
      },
      "source": [
        "### Conclusão 5\n",
        "\n",
        "Como visto na pergunta anterior, 47,5% dos municípios (com mais de cem mil habitantes) com várias fontes de publicação são localizados na região Sudeste."
      ]
    },
    {
      "cell_type": "markdown",
      "metadata": {
        "id": "u7P6O0XJ-YNg"
      },
      "source": [
        "## 6. Há alguma correlação entre quantidade de fontes por município e antiguidade? (Verificar se há informação no campo observação)"
      ]
    },
    {
      "cell_type": "code",
      "metadata": {
        "colab": {
          "base_uri": "https://localhost:8080/",
          "height": 206
        },
        "id": "D2GOyRX1iSBI",
        "outputId": "1eb7e9c9-8ff1-4c21-d9b3-0e81b242e993"
      },
      "source": [
        "municipios_correlate_data_fontes = municipios[['municipio', 'data_inicial', 'fontes_qtd']].copy()\n",
        "municipios_correlate_data_fontes.head()"
      ],
      "execution_count": 39,
      "outputs": [
        {
          "output_type": "execute_result",
          "data": {
            "text/html": [
              "<div>\n",
              "<style scoped>\n",
              "    .dataframe tbody tr th:only-of-type {\n",
              "        vertical-align: middle;\n",
              "    }\n",
              "\n",
              "    .dataframe tbody tr th {\n",
              "        vertical-align: top;\n",
              "    }\n",
              "\n",
              "    .dataframe thead th {\n",
              "        text-align: right;\n",
              "    }\n",
              "</style>\n",
              "<table border=\"1\" class=\"dataframe\">\n",
              "  <thead>\n",
              "    <tr style=\"text-align: right;\">\n",
              "      <th></th>\n",
              "      <th>municipio</th>\n",
              "      <th>data_inicial</th>\n",
              "      <th>fontes_qtd</th>\n",
              "    </tr>\n",
              "  </thead>\n",
              "  <tbody>\n",
              "    <tr>\n",
              "      <th>0</th>\n",
              "      <td>Abaetetuba (PA)</td>\n",
              "      <td>2016-06-30</td>\n",
              "      <td>1</td>\n",
              "    </tr>\n",
              "    <tr>\n",
              "      <th>1</th>\n",
              "      <td>Abreu e Lima (PE)</td>\n",
              "      <td>None</td>\n",
              "      <td>1</td>\n",
              "    </tr>\n",
              "    <tr>\n",
              "      <th>2</th>\n",
              "      <td>Alagoinhas (BA)</td>\n",
              "      <td>2015-01-28</td>\n",
              "      <td>1</td>\n",
              "    </tr>\n",
              "    <tr>\n",
              "      <th>3</th>\n",
              "      <td>Almirante Tamandaré (PR)</td>\n",
              "      <td>2014-01-08</td>\n",
              "      <td>1</td>\n",
              "    </tr>\n",
              "    <tr>\n",
              "      <th>4</th>\n",
              "      <td>Altamira (PA)</td>\n",
              "      <td>2013-05-11</td>\n",
              "      <td>1</td>\n",
              "    </tr>\n",
              "  </tbody>\n",
              "</table>\n",
              "</div>"
            ],
            "text/plain": [
              "                  municipio data_inicial  fontes_qtd\n",
              "0           Abaetetuba (PA)   2016-06-30           1\n",
              "1         Abreu e Lima (PE)         None           1\n",
              "2           Alagoinhas (BA)   2015-01-28           1\n",
              "3  Almirante Tamandaré (PR)   2014-01-08           1\n",
              "4             Altamira (PA)   2013-05-11           1"
            ]
          },
          "metadata": {
            "tags": []
          },
          "execution_count": 39
        }
      ]
    },
    {
      "cell_type": "code",
      "metadata": {
        "colab": {
          "base_uri": "https://localhost:8080/"
        },
        "id": "AJ5IECyK73rD",
        "outputId": "cc2cf7dd-071d-485a-e47a-adf73da39a66"
      },
      "source": [
        "municipios_correlate_data_fontes.info()"
      ],
      "execution_count": 40,
      "outputs": [
        {
          "output_type": "stream",
          "text": [
            "<class 'pandas.core.frame.DataFrame'>\n",
            "RangeIndex: 326 entries, 0 to 325\n",
            "Data columns (total 3 columns):\n",
            " #   Column        Non-Null Count  Dtype \n",
            "---  ------        --------------  ----- \n",
            " 0   municipio     326 non-null    object\n",
            " 1   data_inicial  315 non-null    object\n",
            " 2   fontes_qtd    326 non-null    int64 \n",
            "dtypes: int64(1), object(2)\n",
            "memory usage: 7.8+ KB\n"
          ],
          "name": "stdout"
        }
      ]
    },
    {
      "cell_type": "markdown",
      "metadata": {
        "id": "IQ9D609hvIL2"
      },
      "source": [
        "A coluna \"data_inicial\" possui datas em formato objects (sem tipo definido). Vamos convertê-las para formato datetype, assim facilitará sua manipulação."
      ]
    },
    {
      "cell_type": "code",
      "metadata": {
        "id": "HRWevWpbhCJn"
      },
      "source": [
        "municipios_correlate_data_fontes['data_inicial']= pd.to_datetime(\n",
        "    municipios_correlate_data_fontes['data_inicial'], format='%Y-%m-%d'\n",
        ")"
      ],
      "execution_count": 41,
      "outputs": []
    },
    {
      "cell_type": "markdown",
      "metadata": {
        "id": "iS24jB1JDFIk"
      },
      "source": [
        "Na data, o dado que nos interessa é apenas o ano para correlacionar com a quantidade de fontes, então criaremos uma nova coluna."
      ]
    },
    {
      "cell_type": "code",
      "metadata": {
        "id": "c3Lm5lw07zqK",
        "colab": {
          "base_uri": "https://localhost:8080/",
          "height": 206
        },
        "outputId": "8dd17e50-ad30-4b95-98b7-e7ab0df655e7"
      },
      "source": [
        "municipios_correlate_data_fontes['ano_inicial'] = pd.to_numeric(\n",
        "    municipios_correlate_data_fontes['data_inicial'].dt.strftime('%Y'),\n",
        ")\n",
        "municipios_correlate_data_fontes.head()"
      ],
      "execution_count": 42,
      "outputs": [
        {
          "output_type": "execute_result",
          "data": {
            "text/html": [
              "<div>\n",
              "<style scoped>\n",
              "    .dataframe tbody tr th:only-of-type {\n",
              "        vertical-align: middle;\n",
              "    }\n",
              "\n",
              "    .dataframe tbody tr th {\n",
              "        vertical-align: top;\n",
              "    }\n",
              "\n",
              "    .dataframe thead th {\n",
              "        text-align: right;\n",
              "    }\n",
              "</style>\n",
              "<table border=\"1\" class=\"dataframe\">\n",
              "  <thead>\n",
              "    <tr style=\"text-align: right;\">\n",
              "      <th></th>\n",
              "      <th>municipio</th>\n",
              "      <th>data_inicial</th>\n",
              "      <th>fontes_qtd</th>\n",
              "      <th>ano_inicial</th>\n",
              "    </tr>\n",
              "  </thead>\n",
              "  <tbody>\n",
              "    <tr>\n",
              "      <th>0</th>\n",
              "      <td>Abaetetuba (PA)</td>\n",
              "      <td>2016-06-30</td>\n",
              "      <td>1</td>\n",
              "      <td>2016.0</td>\n",
              "    </tr>\n",
              "    <tr>\n",
              "      <th>1</th>\n",
              "      <td>Abreu e Lima (PE)</td>\n",
              "      <td>NaT</td>\n",
              "      <td>1</td>\n",
              "      <td>NaN</td>\n",
              "    </tr>\n",
              "    <tr>\n",
              "      <th>2</th>\n",
              "      <td>Alagoinhas (BA)</td>\n",
              "      <td>2015-01-28</td>\n",
              "      <td>1</td>\n",
              "      <td>2015.0</td>\n",
              "    </tr>\n",
              "    <tr>\n",
              "      <th>3</th>\n",
              "      <td>Almirante Tamandaré (PR)</td>\n",
              "      <td>2014-01-08</td>\n",
              "      <td>1</td>\n",
              "      <td>2014.0</td>\n",
              "    </tr>\n",
              "    <tr>\n",
              "      <th>4</th>\n",
              "      <td>Altamira (PA)</td>\n",
              "      <td>2013-05-11</td>\n",
              "      <td>1</td>\n",
              "      <td>2013.0</td>\n",
              "    </tr>\n",
              "  </tbody>\n",
              "</table>\n",
              "</div>"
            ],
            "text/plain": [
              "                  municipio data_inicial  fontes_qtd  ano_inicial\n",
              "0           Abaetetuba (PA)   2016-06-30           1       2016.0\n",
              "1         Abreu e Lima (PE)          NaT           1          NaN\n",
              "2           Alagoinhas (BA)   2015-01-28           1       2015.0\n",
              "3  Almirante Tamandaré (PR)   2014-01-08           1       2014.0\n",
              "4             Altamira (PA)   2013-05-11           1       2013.0"
            ]
          },
          "metadata": {
            "tags": []
          },
          "execution_count": 42
        }
      ]
    },
    {
      "cell_type": "markdown",
      "metadata": {
        "id": "trWcRxtNsSCm"
      },
      "source": [
        "Desejamos saber o coeficiente de correlação entre as colunas \"ano_inicial\" e \"fontes_qtd\"."
      ]
    },
    {
      "cell_type": "code",
      "metadata": {
        "colab": {
          "base_uri": "https://localhost:8080/",
          "height": 112
        },
        "id": "l_D_uKlyrzkR",
        "outputId": "5a3f1e49-92bc-4748-d45d-076506e99589"
      },
      "source": [
        "municipios_correlate_data_fontes.corr(method='pearson')"
      ],
      "execution_count": 43,
      "outputs": [
        {
          "output_type": "execute_result",
          "data": {
            "text/html": [
              "<div>\n",
              "<style scoped>\n",
              "    .dataframe tbody tr th:only-of-type {\n",
              "        vertical-align: middle;\n",
              "    }\n",
              "\n",
              "    .dataframe tbody tr th {\n",
              "        vertical-align: top;\n",
              "    }\n",
              "\n",
              "    .dataframe thead th {\n",
              "        text-align: right;\n",
              "    }\n",
              "</style>\n",
              "<table border=\"1\" class=\"dataframe\">\n",
              "  <thead>\n",
              "    <tr style=\"text-align: right;\">\n",
              "      <th></th>\n",
              "      <th>fontes_qtd</th>\n",
              "      <th>ano_inicial</th>\n",
              "    </tr>\n",
              "  </thead>\n",
              "  <tbody>\n",
              "    <tr>\n",
              "      <th>fontes_qtd</th>\n",
              "      <td>1.000000</td>\n",
              "      <td>-0.039254</td>\n",
              "    </tr>\n",
              "    <tr>\n",
              "      <th>ano_inicial</th>\n",
              "      <td>-0.039254</td>\n",
              "      <td>1.000000</td>\n",
              "    </tr>\n",
              "  </tbody>\n",
              "</table>\n",
              "</div>"
            ],
            "text/plain": [
              "             fontes_qtd  ano_inicial\n",
              "fontes_qtd     1.000000    -0.039254\n",
              "ano_inicial   -0.039254     1.000000"
            ]
          },
          "metadata": {
            "tags": []
          },
          "execution_count": 43
        }
      ]
    },
    {
      "cell_type": "markdown",
      "metadata": {
        "id": "8Kmd8Tnuit4x"
      },
      "source": [
        "### Conclusão 6\n",
        "\n",
        "Um coeficiente de 0.03 demonstra uma correlação linear muito baixa, não sendo interessante seguir na exploração dessa hipótese. Podemos concluir que não existe correlação relevante entre antiguidade de publicação e quantidade de fontes de publicação para os diários oficiais municipais."
      ]
    },
    {
      "cell_type": "markdown",
      "metadata": {
        "id": "QyUdrXdQ-aiE"
      },
      "source": [
        "## 7. As capitais costumam ter mais de uma fonte de publicação? Quantas?"
      ]
    },
    {
      "cell_type": "code",
      "metadata": {
        "id": "CA82kMPO8XKC",
        "colab": {
          "base_uri": "https://localhost:8080/"
        },
        "outputId": "cc0c82a5-283f-4f87-9cc4-68e3a11b4a98"
      },
      "source": [
        "capitais_uma_fonte = municipios_uma_fonte[municipios_uma_fonte['eh_capital']]\n",
        "capitais_uma_fonte.shape"
      ],
      "execution_count": 44,
      "outputs": [
        {
          "output_type": "execute_result",
          "data": {
            "text/plain": [
              "(20, 15)"
            ]
          },
          "metadata": {
            "tags": []
          },
          "execution_count": 44
        }
      ]
    },
    {
      "cell_type": "code",
      "metadata": {
        "id": "m3wqR4qRAQHE",
        "colab": {
          "base_uri": "https://localhost:8080/"
        },
        "outputId": "8d52b6f9-b40f-4a15-fd73-a1dd645116b3"
      },
      "source": [
        "capitais_uma_fonte['municipio']"
      ],
      "execution_count": 45,
      "outputs": [
        {
          "output_type": "execute_result",
          "data": {
            "text/plain": [
              "12            Aracaju (SE)\n",
              "40     Belo Horizonte (MG)\n",
              "41              Belém (PA)\n",
              "46          Boa Vista (RR)\n",
              "64       Campo Grande (MS)\n",
              "103     Florianópolis (SC)\n",
              "105         Fortaleza (CE)\n",
              "111           Goiânia (GO)\n",
              "155       João Pessoa (PB)\n",
              "169            Macapá (AP)\n",
              "171            Maceió (AL)\n",
              "174            Manaus (AM)\n",
              "189             Natal (RN)\n",
              "225      Porto Alegre (RS)\n",
              "239        Rio Branco (AC)\n",
              "244    Rio de Janeiro (RJ)\n",
              "248          Salvador (BA)\n",
              "286          São Luís (MA)\n",
              "288         São Paulo (SP)\n",
              "297          Teresina (PI)\n",
              "Name: municipio, dtype: object"
            ]
          },
          "metadata": {
            "tags": []
          },
          "execution_count": 45
        }
      ]
    },
    {
      "cell_type": "code",
      "metadata": {
        "id": "hm9M3A4bAFg4",
        "colab": {
          "base_uri": "https://localhost:8080/"
        },
        "outputId": "ab6529e2-f27a-41d2-d572-012cd1f12374"
      },
      "source": [
        "capitais_many_fontes = municipios_many_fontes[municipios_many_fontes['eh_capital']]\n",
        "capitais_many_fontes.shape"
      ],
      "execution_count": 46,
      "outputs": [
        {
          "output_type": "execute_result",
          "data": {
            "text/plain": [
              "(7, 15)"
            ]
          },
          "metadata": {
            "tags": []
          },
          "execution_count": 46
        }
      ]
    },
    {
      "cell_type": "code",
      "metadata": {
        "id": "hlBxVjg0AWm6",
        "colab": {
          "base_uri": "https://localhost:8080/"
        },
        "outputId": "5b609c7b-ecc1-41da-adc7-ee49d1db3d0e"
      },
      "source": [
        "capitais_many_fontes['municipio']"
      ],
      "execution_count": 47,
      "outputs": [
        {
          "output_type": "execute_result",
          "data": {
            "text/plain": [
              "50        Brasília (DF)\n",
              "91          Cuiabá (MT)\n",
              "92        Curitiba (PR)\n",
              "202         Palmas (TO)\n",
              "227    Porto Velho (RO)\n",
              "234         Recife (PE)\n",
              "318        Vitória (ES)\n",
              "Name: municipio, dtype: object"
            ]
          },
          "metadata": {
            "tags": []
          },
          "execution_count": 47
        }
      ]
    },
    {
      "cell_type": "code",
      "metadata": {
        "id": "zBBQbEB7Abde",
        "colab": {
          "base_uri": "https://localhost:8080/"
        },
        "outputId": "b1f7e989-acce-4988-b76e-73f0fdd3338b"
      },
      "source": [
        "capitais_many_fontes['fontes_qtd'].value_counts()"
      ],
      "execution_count": 48,
      "outputs": [
        {
          "output_type": "execute_result",
          "data": {
            "text/plain": [
              "2    5\n",
              "3    2\n",
              "Name: fontes_qtd, dtype: int64"
            ]
          },
          "metadata": {
            "tags": []
          },
          "execution_count": 48
        }
      ]
    },
    {
      "cell_type": "code",
      "metadata": {
        "id": "0VkcjYvtM-Cf",
        "colab": {
          "base_uri": "https://localhost:8080/",
          "height": 112
        },
        "outputId": "d2db00b1-4ab7-4cf5-ed2b-ea9c4cadce3a"
      },
      "source": [
        "capitais_overview = pd.DataFrame(\n",
        "    data={'Quantidade': [capitais_uma_fonte.shape[0], capitais_many_fontes.shape[0]]}, \n",
        "    index=['capitais_uma_fonte', 'capitais_varias_fontes']\n",
        ")\n",
        "capitais_overview"
      ],
      "execution_count": 49,
      "outputs": [
        {
          "output_type": "execute_result",
          "data": {
            "text/html": [
              "<div>\n",
              "<style scoped>\n",
              "    .dataframe tbody tr th:only-of-type {\n",
              "        vertical-align: middle;\n",
              "    }\n",
              "\n",
              "    .dataframe tbody tr th {\n",
              "        vertical-align: top;\n",
              "    }\n",
              "\n",
              "    .dataframe thead th {\n",
              "        text-align: right;\n",
              "    }\n",
              "</style>\n",
              "<table border=\"1\" class=\"dataframe\">\n",
              "  <thead>\n",
              "    <tr style=\"text-align: right;\">\n",
              "      <th></th>\n",
              "      <th>Quantidade</th>\n",
              "    </tr>\n",
              "  </thead>\n",
              "  <tbody>\n",
              "    <tr>\n",
              "      <th>capitais_uma_fonte</th>\n",
              "      <td>20</td>\n",
              "    </tr>\n",
              "    <tr>\n",
              "      <th>capitais_varias_fontes</th>\n",
              "      <td>7</td>\n",
              "    </tr>\n",
              "  </tbody>\n",
              "</table>\n",
              "</div>"
            ],
            "text/plain": [
              "                        Quantidade\n",
              "capitais_uma_fonte              20\n",
              "capitais_varias_fontes           7"
            ]
          },
          "metadata": {
            "tags": []
          },
          "execution_count": 49
        }
      ]
    },
    {
      "cell_type": "code",
      "metadata": {
        "id": "hE-qpPwdRSub",
        "colab": {
          "base_uri": "https://localhost:8080/",
          "height": 112
        },
        "outputId": "51234c4d-7532-4875-a53e-51fa59c3a26b"
      },
      "source": [
        "total_capitais = municipios['eh_capital'].value_counts()\n",
        "capitais_overview['Percentual'] = round((capitais_overview['Quantidade']/total_capitais[1] * 100),1)\n",
        "capitais_overview"
      ],
      "execution_count": 50,
      "outputs": [
        {
          "output_type": "execute_result",
          "data": {
            "text/html": [
              "<div>\n",
              "<style scoped>\n",
              "    .dataframe tbody tr th:only-of-type {\n",
              "        vertical-align: middle;\n",
              "    }\n",
              "\n",
              "    .dataframe tbody tr th {\n",
              "        vertical-align: top;\n",
              "    }\n",
              "\n",
              "    .dataframe thead th {\n",
              "        text-align: right;\n",
              "    }\n",
              "</style>\n",
              "<table border=\"1\" class=\"dataframe\">\n",
              "  <thead>\n",
              "    <tr style=\"text-align: right;\">\n",
              "      <th></th>\n",
              "      <th>Quantidade</th>\n",
              "      <th>Percentual</th>\n",
              "    </tr>\n",
              "  </thead>\n",
              "  <tbody>\n",
              "    <tr>\n",
              "      <th>capitais_uma_fonte</th>\n",
              "      <td>20</td>\n",
              "      <td>74.1</td>\n",
              "    </tr>\n",
              "    <tr>\n",
              "      <th>capitais_varias_fontes</th>\n",
              "      <td>7</td>\n",
              "      <td>25.9</td>\n",
              "    </tr>\n",
              "  </tbody>\n",
              "</table>\n",
              "</div>"
            ],
            "text/plain": [
              "                        Quantidade  Percentual\n",
              "capitais_uma_fonte              20        74.1\n",
              "capitais_varias_fontes           7        25.9"
            ]
          },
          "metadata": {
            "tags": []
          },
          "execution_count": 50
        }
      ]
    },
    {
      "cell_type": "markdown",
      "metadata": {
        "id": "7HIE40RFZjNa"
      },
      "source": [
        "Vamos exportar os dados para .csv, o que possibilitará gerar visualização fora do notebook."
      ]
    },
    {
      "cell_type": "code",
      "metadata": {
        "id": "L7AsKMaCZi79"
      },
      "source": [
        "capitais_overview.insert(loc=0, column='index', value=['capitais_uma_fonte', 'capitais_varias_fontes'])\n",
        "capitais_overview.to_csv(r'pergunta_7.csv', index=False)"
      ],
      "execution_count": 51,
      "outputs": []
    },
    {
      "cell_type": "markdown",
      "metadata": {
        "id": "yto-CHO1XAaN"
      },
      "source": [
        "### Conclusão 7\n",
        "\n",
        "A maior parte (74%) das capitais possuem apenas 1 fonte para acesso aos diários oficiais do poder executivo. No outro extremo, Cuiabá (MT) e Recife (PE) possuem 3 fontes de consulta do diário oficial."
      ]
    }
  ]
}